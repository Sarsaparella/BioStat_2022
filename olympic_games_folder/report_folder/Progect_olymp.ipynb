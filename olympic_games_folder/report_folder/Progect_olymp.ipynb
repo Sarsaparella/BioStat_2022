{
 "cells": [
  {
   "cell_type": "code",
   "execution_count": 185,
   "id": "4f842ca3-1d68-445c-87e7-170a0996d452",
   "metadata": {},
   "outputs": [],
   "source": [
    "import pandas as pd\n",
    "from pandas import DataFrame, cut\n",
    "import os\n",
    "import seaborn as sns\n",
    "import numpy as np\n",
    "import matplotlib.pyplot as plt\n",
    "from scipy.stats import chisquare, mannwhitneyu, shapiro, zscore"
   ]
  },
  {
   "cell_type": "markdown",
   "id": "be9ac990-fcb3-4201-8cbe-ae8f1b3bd8de",
   "metadata": {},
   "source": [
    "## Task 1: Creating function to read and join all tables"
   ]
  },
  {
   "cell_type": "code",
   "execution_count": 236,
   "id": "4d706ad7-e6ff-48b0-bbf2-23da7e921ebf",
   "metadata": {
    "tags": []
   },
   "outputs": [],
   "source": [
    "def read_data(directory, extension):\n",
    "    directory = os.fsencode(directory)\n",
    "    all_data = pd.DataFrame(columns=['ID','Name','Sex','Age',\n",
    "                                     'Height','Weight','Team',\n",
    "                                     'NOC','Games','Year','Season',\n",
    "                                     'City','Sport','Event','Medal'])\n",
    "    \n",
    "    all_data = all_data.astype({'Height': 'int', 'Age': 'int', 'Weight': 'int', 'Year': 'int'})\n",
    "    for file in os.listdir(directory):\n",
    "        filename = os.fsdecode(file)\n",
    "        path_to_file = f'olympic_games_folder/data_folder/{filename}'\n",
    "        if path_to_file.endswith(extension):\n",
    "            current_df = pd.read_csv(path_to_file)\n",
    "            all_data = pd.concat([all_data, current_df], axis = 0)\n",
    "            all_data = all_data.drop_duplicates()\n",
    "    return all_data\n",
    "\n",
    "olympics_dataset = read_data('olympic_games_folder/data_folder', 'csv')"
   ]
  },
  {
   "cell_type": "code",
   "execution_count": 237,
   "id": "f4b83dde-78e3-4896-8dce-438986a84b6c",
   "metadata": {},
   "outputs": [
    {
     "data": {
      "text/plain": [
       "269730"
      ]
     },
     "execution_count": 237,
     "metadata": {},
     "output_type": "execute_result"
    }
   ],
   "source": [
    "len(olympics_dataset)"
   ]
  },
  {
   "cell_type": "markdown",
   "id": "a7ab1bc9-33ac-4cfd-9238-f62cd99440eb",
   "metadata": {
    "tags": []
   },
   "source": [
    "## Task 2: cheching if all data is correct"
   ]
  },
  {
   "cell_type": "markdown",
   "id": "cea520cc-df07-4e4e-b2a0-5c983a1815d8",
   "metadata": {},
   "source": [
    "Descripton of features:\n",
    "\n",
    "- ID – Unique number for each athlete\n",
    "- Name – Athlete's name\n",
    "- Sex – M or F\n",
    "- Age – Integer\n",
    "- Height – In centimeters\n",
    "- Weight – In kilograms\n",
    "- Team – Team name\n",
    "- NOC – National Olympic Committee 3-letter code\n",
    "- Games – Year and season\n",
    "- Year – Integer\n",
    "- Season – Summer or Winter\n",
    "- City – Host city\n",
    "- Sport – Sport\n",
    "- Event – Event\n",
    "- Medal – Gold, Silver, Bronze, or NA"
   ]
  },
  {
   "cell_type": "markdown",
   "id": "206670dd-f99e-48dc-b918-2d0e15e3465b",
   "metadata": {},
   "source": [
    "**First, let's check if all people have F or M sex values. If people have strange sex values, change those values according to their names/google.**\n",
    "\n",
    "In my case there are two persons with 'G' sex. Maybe they are non-binary or transexual, but such values is not allowed in this dataset."
   ]
  },
  {
   "cell_type": "markdown",
   "id": "c5d105f6-f654-41fb-a524-90d180ca4831",
   "metadata": {
    "tags": []
   },
   "source": [
    "### 2.1: Sex"
   ]
  },
  {
   "cell_type": "code",
   "execution_count": 187,
   "id": "a26c5186-9b49-4b09-ae54-5f92247c9d2e",
   "metadata": {},
   "outputs": [
    {
     "data": {
      "text/html": [
       "<div>\n",
       "<style scoped>\n",
       "    .dataframe tbody tr th:only-of-type {\n",
       "        vertical-align: middle;\n",
       "    }\n",
       "\n",
       "    .dataframe tbody tr th {\n",
       "        vertical-align: top;\n",
       "    }\n",
       "\n",
       "    .dataframe thead th {\n",
       "        text-align: right;\n",
       "    }\n",
       "</style>\n",
       "<table border=\"1\" class=\"dataframe\">\n",
       "  <thead>\n",
       "    <tr style=\"text-align: right;\">\n",
       "      <th></th>\n",
       "      <th>ID</th>\n",
       "      <th>Name</th>\n",
       "      <th>Sex</th>\n",
       "      <th>Age</th>\n",
       "      <th>Height</th>\n",
       "      <th>Weight</th>\n",
       "      <th>Team</th>\n",
       "      <th>NOC</th>\n",
       "      <th>Games</th>\n",
       "      <th>Year</th>\n",
       "      <th>Season</th>\n",
       "      <th>City</th>\n",
       "      <th>Sport</th>\n",
       "      <th>Event</th>\n",
       "      <th>Medal</th>\n",
       "    </tr>\n",
       "  </thead>\n",
       "  <tbody>\n",
       "    <tr>\n",
       "      <th>42</th>\n",
       "      <td>79609</td>\n",
       "      <td>Pavel Mike</td>\n",
       "      <td>G</td>\n",
       "      <td>22.0</td>\n",
       "      <td>182.0</td>\n",
       "      <td>79.0</td>\n",
       "      <td>Czechoslovakia</td>\n",
       "      <td>TCH</td>\n",
       "      <td>1972 Summer</td>\n",
       "      <td>1972.0</td>\n",
       "      <td>Summer</td>\n",
       "      <td>Munich</td>\n",
       "      <td>Handball</td>\n",
       "      <td>Handball Men's Handball</td>\n",
       "      <td>Silver</td>\n",
       "    </tr>\n",
       "    <tr>\n",
       "      <th>74</th>\n",
       "      <td>79630</td>\n",
       "      <td>Anatoly Mikhaylin</td>\n",
       "      <td>G</td>\n",
       "      <td>37.0</td>\n",
       "      <td>NaN</td>\n",
       "      <td>NaN</td>\n",
       "      <td>Russia</td>\n",
       "      <td>RUS</td>\n",
       "      <td>1996 Summer</td>\n",
       "      <td>1996.0</td>\n",
       "      <td>Summer</td>\n",
       "      <td>Atlanta</td>\n",
       "      <td>Sailing</td>\n",
       "      <td>Sailing Mixed Two Person Keelboat</td>\n",
       "      <td>NaN</td>\n",
       "    </tr>\n",
       "    <tr>\n",
       "      <th>22409</th>\n",
       "      <td>113716</td>\n",
       "      <td>Pietro Spec</td>\n",
       "      <td>NaN</td>\n",
       "      <td>NaN</td>\n",
       "      <td>NaN</td>\n",
       "      <td>NaN</td>\n",
       "      <td>NaN</td>\n",
       "      <td>NaN</td>\n",
       "      <td>NaN</td>\n",
       "      <td>NaN</td>\n",
       "      <td>NaN</td>\n",
       "      <td>NaN</td>\n",
       "      <td>NaN</td>\n",
       "      <td>NaN</td>\n",
       "      <td>NaN</td>\n",
       "    </tr>\n",
       "    <tr>\n",
       "      <th>22463</th>\n",
       "      <td>124516</td>\n",
       "      <td>NaN</td>\n",
       "      <td>NaN</td>\n",
       "      <td>NaN</td>\n",
       "      <td>NaN</td>\n",
       "      <td>NaN</td>\n",
       "      <td>NaN</td>\n",
       "      <td>NaN</td>\n",
       "      <td>NaN</td>\n",
       "      <td>NaN</td>\n",
       "      <td>NaN</td>\n",
       "      <td>NaN</td>\n",
       "      <td>NaN</td>\n",
       "      <td>NaN</td>\n",
       "      <td>NaN</td>\n",
       "    </tr>\n",
       "  </tbody>\n",
       "</table>\n",
       "</div>"
      ],
      "text/plain": [
       "           ID               Name  Sex   Age  Height  Weight            Team  \\\n",
       "42      79609         Pavel Mike    G  22.0   182.0    79.0  Czechoslovakia   \n",
       "74      79630  Anatoly Mikhaylin    G  37.0     NaN     NaN          Russia   \n",
       "22409  113716        Pietro Spec  NaN   NaN     NaN     NaN             NaN   \n",
       "22463  124516                NaN  NaN   NaN     NaN     NaN             NaN   \n",
       "\n",
       "       NOC        Games    Year  Season     City     Sport  \\\n",
       "42     TCH  1972 Summer  1972.0  Summer   Munich  Handball   \n",
       "74     RUS  1996 Summer  1996.0  Summer  Atlanta   Sailing   \n",
       "22409  NaN          NaN     NaN     NaN      NaN       NaN   \n",
       "22463  NaN          NaN     NaN     NaN      NaN       NaN   \n",
       "\n",
       "                                   Event   Medal  \n",
       "42               Handball Men's Handball  Silver  \n",
       "74     Sailing Mixed Two Person Keelboat     NaN  \n",
       "22409                                NaN     NaN  \n",
       "22463                                NaN     NaN  "
      ]
     },
     "execution_count": 187,
     "metadata": {},
     "output_type": "execute_result"
    }
   ],
   "source": [
    "olympics_dataset[(olympics_dataset['Sex'] != 'M') & (olympics_dataset['Sex'] != 'F')]"
   ]
  },
  {
   "cell_type": "code",
   "execution_count": 188,
   "id": "d1e08b56-f9cf-4749-a3e0-bc087c419b09",
   "metadata": {
    "tags": []
   },
   "outputs": [],
   "source": [
    "olympics_dataset['Sex'] = olympics_dataset['Sex'].replace(['G'], 'M')\n",
    "olympics_dataset.drop([22409, 22463], axis=0, inplace=True) # Delete rows containing only NaNs while we here"
   ]
  },
  {
   "cell_type": "code",
   "execution_count": 189,
   "id": "e5133d53-f152-4bde-9ff6-3758e18e0dd2",
   "metadata": {},
   "outputs": [
    {
     "data": {
      "text/html": [
       "<div>\n",
       "<style scoped>\n",
       "    .dataframe tbody tr th:only-of-type {\n",
       "        vertical-align: middle;\n",
       "    }\n",
       "\n",
       "    .dataframe tbody tr th {\n",
       "        vertical-align: top;\n",
       "    }\n",
       "\n",
       "    .dataframe thead th {\n",
       "        text-align: right;\n",
       "    }\n",
       "</style>\n",
       "<table border=\"1\" class=\"dataframe\">\n",
       "  <thead>\n",
       "    <tr style=\"text-align: right;\">\n",
       "      <th></th>\n",
       "      <th>ID</th>\n",
       "      <th>Name</th>\n",
       "      <th>Sex</th>\n",
       "      <th>Age</th>\n",
       "      <th>Height</th>\n",
       "      <th>Weight</th>\n",
       "      <th>Team</th>\n",
       "      <th>NOC</th>\n",
       "      <th>Games</th>\n",
       "      <th>Year</th>\n",
       "      <th>Season</th>\n",
       "      <th>City</th>\n",
       "      <th>Sport</th>\n",
       "      <th>Event</th>\n",
       "      <th>Medal</th>\n",
       "    </tr>\n",
       "  </thead>\n",
       "  <tbody>\n",
       "  </tbody>\n",
       "</table>\n",
       "</div>"
      ],
      "text/plain": [
       "Empty DataFrame\n",
       "Columns: [ID, Name, Sex, Age, Height, Weight, Team, NOC, Games, Year, Season, City, Sport, Event, Medal]\n",
       "Index: []"
      ]
     },
     "execution_count": 189,
     "metadata": {},
     "output_type": "execute_result"
    }
   ],
   "source": [
    "olympics_dataset[(olympics_dataset['Sex'] != 'M') & (olympics_dataset['Sex'] != 'F')]"
   ]
  },
  {
   "cell_type": "markdown",
   "id": "b1bcb95b-f590-4044-9b77-52c1d8a3c684",
   "metadata": {},
   "source": [
    "**Next, let's check if all the ages, hights and weights seem realistic and normal.** For this purpouse I will use describe function plus I'll draw simple boxplots: I think it is easier to visually inspect and detect how many outliers are there.\n",
    "\n",
    "I decided to remove all unrealistic data because it can potentially harm further data analysis. Also we have large dataset and can afford deliting a few records. As an alternative you can replace those values with median value among people in that age, sex and sport type."
   ]
  },
  {
   "cell_type": "code",
   "execution_count": 190,
   "id": "5c484749-799f-4820-83ac-3e87a477ce6c",
   "metadata": {},
   "outputs": [
    {
     "data": {
      "text/html": [
       "<div>\n",
       "<style scoped>\n",
       "    .dataframe tbody tr th:only-of-type {\n",
       "        vertical-align: middle;\n",
       "    }\n",
       "\n",
       "    .dataframe tbody tr th {\n",
       "        vertical-align: top;\n",
       "    }\n",
       "\n",
       "    .dataframe thead th {\n",
       "        text-align: right;\n",
       "    }\n",
       "</style>\n",
       "<table border=\"1\" class=\"dataframe\">\n",
       "  <thead>\n",
       "    <tr style=\"text-align: right;\">\n",
       "      <th></th>\n",
       "      <th>Age</th>\n",
       "      <th>Height</th>\n",
       "      <th>Weight</th>\n",
       "      <th>Year</th>\n",
       "    </tr>\n",
       "  </thead>\n",
       "  <tbody>\n",
       "    <tr>\n",
       "      <th>count</th>\n",
       "      <td>260394.000000</td>\n",
       "      <td>210900.000000</td>\n",
       "      <td>208187.000000</td>\n",
       "      <td>269704.000000</td>\n",
       "    </tr>\n",
       "    <tr>\n",
       "      <th>mean</th>\n",
       "      <td>25.455590</td>\n",
       "      <td>175.339474</td>\n",
       "      <td>70.701547</td>\n",
       "      <td>1978.622534</td>\n",
       "    </tr>\n",
       "    <tr>\n",
       "      <th>std</th>\n",
       "      <td>6.178156</td>\n",
       "      <td>10.524683</td>\n",
       "      <td>14.350048</td>\n",
       "      <td>29.752093</td>\n",
       "    </tr>\n",
       "    <tr>\n",
       "      <th>min</th>\n",
       "      <td>10.000000</td>\n",
       "      <td>127.000000</td>\n",
       "      <td>7.000000</td>\n",
       "      <td>1896.000000</td>\n",
       "    </tr>\n",
       "    <tr>\n",
       "      <th>25%</th>\n",
       "      <td>21.000000</td>\n",
       "      <td>168.000000</td>\n",
       "      <td>60.000000</td>\n",
       "      <td>1960.000000</td>\n",
       "    </tr>\n",
       "    <tr>\n",
       "      <th>50%</th>\n",
       "      <td>24.000000</td>\n",
       "      <td>175.000000</td>\n",
       "      <td>70.000000</td>\n",
       "      <td>1988.000000</td>\n",
       "    </tr>\n",
       "    <tr>\n",
       "      <th>75%</th>\n",
       "      <td>28.000000</td>\n",
       "      <td>183.000000</td>\n",
       "      <td>79.000000</td>\n",
       "      <td>2002.000000</td>\n",
       "    </tr>\n",
       "    <tr>\n",
       "      <th>max</th>\n",
       "      <td>240.000000</td>\n",
       "      <td>340.000000</td>\n",
       "      <td>214.000000</td>\n",
       "      <td>2016.000000</td>\n",
       "    </tr>\n",
       "  </tbody>\n",
       "</table>\n",
       "</div>"
      ],
      "text/plain": [
       "                 Age         Height         Weight           Year\n",
       "count  260394.000000  210900.000000  208187.000000  269704.000000\n",
       "mean       25.455590     175.339474      70.701547    1978.622534\n",
       "std         6.178156      10.524683      14.350048      29.752093\n",
       "min        10.000000     127.000000       7.000000    1896.000000\n",
       "25%        21.000000     168.000000      60.000000    1960.000000\n",
       "50%        24.000000     175.000000      70.000000    1988.000000\n",
       "75%        28.000000     183.000000      79.000000    2002.000000\n",
       "max       240.000000     340.000000     214.000000    2016.000000"
      ]
     },
     "execution_count": 190,
     "metadata": {},
     "output_type": "execute_result"
    }
   ],
   "source": [
    "pd.DataFrame.describe(olympics_dataset)"
   ]
  },
  {
   "cell_type": "markdown",
   "id": "f3572fa8-faad-40d6-99ee-3ad248051e32",
   "metadata": {
    "tags": []
   },
   "source": [
    "### 2.2: Age"
   ]
  },
  {
   "cell_type": "code",
   "execution_count": 191,
   "id": "2cf744fb-ecb0-4928-aa7d-71fe2d31e60e",
   "metadata": {},
   "outputs": [],
   "source": [
    "olympics_dataset = olympics_dataset[(olympics_dataset['Age'] != 240)]"
   ]
  },
  {
   "cell_type": "code",
   "execution_count": 192,
   "id": "44a04c35-a277-4d8b-a2e4-058f4465f929",
   "metadata": {
    "tags": []
   },
   "outputs": [
    {
     "data": {
      "image/png": "[encoded data removed]",
      "text/plain": [
       "<Figure size 432x288 with 1 Axes>"
      ]
     },
     "metadata": {},
     "output_type": "display_data"
    }
   ],
   "source": [
    "sns.boxplot(y = olympics_dataset['Age'], width = 0.3);"
   ]
  },
  {
   "cell_type": "markdown",
   "id": "b7499b60-7d7a-427a-9c83-15213837d4da",
   "metadata": {
    "tags": []
   },
   "source": [
    "### 2.3: Height"
   ]
  },
  {
   "cell_type": "code",
   "execution_count": 193,
   "id": "0f2100cb-fc99-4bfe-8584-727999790012",
   "metadata": {},
   "outputs": [],
   "source": [
    "olympics_dataset = olympics_dataset[(olympics_dataset['Height'] != 340)]"
   ]
  },
  {
   "cell_type": "code",
   "execution_count": 194,
   "id": "94fca69b-e3e0-45bb-a9e1-e94511735554",
   "metadata": {
    "tags": []
   },
   "outputs": [
    {
     "data": {
      "image/png": "[encoded data removed]",
      "text/plain": [
       "<Figure size 432x288 with 1 Axes>"
      ]
     },
     "metadata": {},
     "output_type": "display_data"
    }
   ],
   "source": [
    "sns.boxplot(y = olympics_dataset['Height'], width = 0.3);"
   ]
  },
  {
   "cell_type": "markdown",
   "id": "604fde38-4a9a-450d-adc2-37b0757109a5",
   "metadata": {
    "tags": []
   },
   "source": [
    "### 2.4: Weight"
   ]
  },
  {
   "cell_type": "code",
   "execution_count": 195,
   "id": "d9d3e2c7-390d-4c5a-bad1-da91b33f4b0b",
   "metadata": {},
   "outputs": [],
   "source": [
    "olympics_dataset = olympics_dataset[(olympics_dataset['Weight'] != 7)]"
   ]
  },
  {
   "cell_type": "code",
   "execution_count": 196,
   "id": "413cb895-5c1e-4a41-bb64-7877fdb2bb6c",
   "metadata": {
    "tags": []
   },
   "outputs": [
    {
     "data": {
      "image/png": "[encoded data removed]",
      "text/plain": [
       "<Figure size 432x288 with 1 Axes>"
      ]
     },
     "metadata": {},
     "output_type": "display_data"
    }
   ],
   "source": [
    "sns.boxplot(y = olympics_dataset['Weight'], width = 0.3);"
   ]
  },
  {
   "cell_type": "markdown",
   "id": "82c93748-7abd-4332-ad4d-1b9287a8fe78",
   "metadata": {},
   "source": [
    "**After this, inspect all other features, in case you want to avoid certain values**"
   ]
  },
  {
   "cell_type": "markdown",
   "id": "041547ad-bab3-4a84-8e43-7e1daaa1269f",
   "metadata": {
    "tags": []
   },
   "source": [
    "### 2.5: Team"
   ]
  },
  {
   "cell_type": "code",
   "execution_count": 197,
   "id": "4a3c7c38-0e0f-4e1a-ae54-9701359d975a",
   "metadata": {
    "tags": []
   },
   "outputs": [
    {
     "data": {
      "text/plain": [
       "['Great Britain-1',\n",
       " 'Namibia',\n",
       " 'Rose Pompon',\n",
       " 'France-3',\n",
       " 'Cape Verde',\n",
       " 'Netherlands Antilles',\n",
       " 'Mongolia',\n",
       " \"Cote d'Ivoire\",\n",
       " 'Sarcelle-35',\n",
       " 'Sarcelle-3']"
      ]
     },
     "execution_count": 197,
     "metadata": {},
     "output_type": "execute_result"
    }
   ],
   "source": [
    "olympics_dataset.Team.unique().tolist()[200:210]"
   ]
  },
  {
   "cell_type": "markdown",
   "id": "315b4565-1ad1-4b44-aeee-1ab485c740ad",
   "metadata": {
    "tags": []
   },
   "source": [
    "### 2.6: NOC"
   ]
  },
  {
   "cell_type": "code",
   "execution_count": 199,
   "id": "5e192f05-538b-4bd2-ab01-53d73d64863a",
   "metadata": {
    "tags": []
   },
   "outputs": [
    {
     "data": {
      "text/plain": [
       "['YUG', 'NED', 'SCG', 'DEN', 'POL', 'GRE', 'SWE', 'TCH', 'JPN']"
      ]
     },
     "execution_count": 199,
     "metadata": {},
     "output_type": "execute_result"
    }
   ],
   "source": [
    "olympics_dataset.NOC.unique().tolist()[1:10]"
   ]
  },
  {
   "cell_type": "markdown",
   "id": "7afdcde6-67f7-4b33-bb5e-98f1581d6704",
   "metadata": {
    "tags": []
   },
   "source": [
    "### 2.7: Games"
   ]
  },
  {
   "cell_type": "code",
   "execution_count": 200,
   "id": "7924cd40-d9b4-480b-bc99-f36cbf1a0da3",
   "metadata": {
    "collapsed": true,
    "jupyter": {
     "outputs_hidden": true
    },
    "tags": []
   },
   "outputs": [
    {
     "data": {
      "text/plain": [
       "['1960 Summer',\n",
       " '1948 Summer',\n",
       " '1928 Summer',\n",
       " '2000 Summer',\n",
       " '2004 Summer',\n",
       " '1964 Summer',\n",
       " '1968 Summer',\n",
       " '2016 Summer',\n",
       " '1952 Summer',\n",
       " '1972 Winter',\n",
       " '1920 Summer',\n",
       " '1992 Winter',\n",
       " '1996 Summer',\n",
       " '1998 Winter',\n",
       " '1972 Summer',\n",
       " '2010 Winter',\n",
       " '2014 Winter',\n",
       " '2008 Summer',\n",
       " '2012 Summer',\n",
       " '1956 Summer',\n",
       " '1976 Summer',\n",
       " '1992 Summer',\n",
       " '1896 Summer',\n",
       " '1988 Summer',\n",
       " '1984 Summer',\n",
       " '1906 Summer',\n",
       " '2002 Winter',\n",
       " '1976 Winter',\n",
       " '1980 Winter',\n",
       " '1936 Summer',\n",
       " '1956 Winter',\n",
       " '1980 Summer',\n",
       " '1964 Winter',\n",
       " '1994 Winter',\n",
       " '1968 Winter',\n",
       " '1932 Winter',\n",
       " '1936 Winter',\n",
       " '1984 Winter',\n",
       " '1988 Winter',\n",
       " '1908 Summer',\n",
       " '1932 Summer',\n",
       " '1924 Summer',\n",
       " '1928 Winter',\n",
       " '1912 Summer',\n",
       " '2006 Winter',\n",
       " '1960 Winter',\n",
       " '1900 Summer',\n",
       " '1952 Winter',\n",
       " '1904 Summer',\n",
       " '1948 Winter',\n",
       " '1924 Winter',\n",
       " '2000 Su',\n",
       " '2004 Summe',\n",
       " nan]"
      ]
     },
     "execution_count": 200,
     "metadata": {},
     "output_type": "execute_result"
    }
   ],
   "source": [
    "olympics_dataset.Games.unique().tolist()"
   ]
  },
  {
   "cell_type": "code",
   "execution_count": 201,
   "id": "cf83a6eb-2027-4db5-a007-95115c19309a",
   "metadata": {},
   "outputs": [],
   "source": [
    "olympics_dataset['Games'] = olympics_dataset['Games'].replace(['2000 Su'], '2000 Summer')"
   ]
  },
  {
   "cell_type": "markdown",
   "id": "27437bda-322c-4e3e-867f-2e20710e8f77",
   "metadata": {
    "tags": []
   },
   "source": [
    "### 2.8: Year"
   ]
  },
  {
   "cell_type": "code",
   "execution_count": 202,
   "id": "c59c4c09-6732-4e3a-9eb2-46830691b511",
   "metadata": {
    "collapsed": true,
    "jupyter": {
     "outputs_hidden": true
    },
    "tags": []
   },
   "outputs": [
    {
     "data": {
      "text/plain": [
       "[1960.0,\n",
       " 1948.0,\n",
       " 1928.0,\n",
       " 2000.0,\n",
       " 2004.0,\n",
       " 1964.0,\n",
       " 1968.0,\n",
       " 2016.0,\n",
       " 1952.0,\n",
       " 1972.0,\n",
       " 1920.0,\n",
       " 1992.0,\n",
       " 1996.0,\n",
       " 1998.0,\n",
       " 2010.0,\n",
       " 2014.0,\n",
       " 2008.0,\n",
       " 2012.0,\n",
       " 1956.0,\n",
       " 1976.0,\n",
       " 1896.0,\n",
       " 1988.0,\n",
       " 1984.0,\n",
       " 1906.0,\n",
       " 2002.0,\n",
       " 1980.0,\n",
       " 1936.0,\n",
       " 1994.0,\n",
       " 1932.0,\n",
       " 1908.0,\n",
       " 1924.0,\n",
       " 1912.0,\n",
       " 2006.0,\n",
       " 1900.0,\n",
       " 1904.0,\n",
       " nan]"
      ]
     },
     "execution_count": 202,
     "metadata": {},
     "output_type": "execute_result"
    }
   ],
   "source": [
    "olympics_dataset.Year.unique().tolist()"
   ]
  },
  {
   "cell_type": "markdown",
   "id": "6cb95751-112e-41eb-a303-eec852e79ce6",
   "metadata": {},
   "source": [
    "### 2.9: Season"
   ]
  },
  {
   "cell_type": "code",
   "execution_count": 203,
   "id": "e70029dc-becc-405b-9d62-09c9a6900838",
   "metadata": {
    "tags": []
   },
   "outputs": [
    {
     "data": {
      "text/plain": [
       "['Summer', 'Winter', nan]"
      ]
     },
     "execution_count": 203,
     "metadata": {},
     "output_type": "execute_result"
    }
   ],
   "source": [
    "olympics_dataset.Season.unique().tolist()"
   ]
  },
  {
   "cell_type": "markdown",
   "id": "2fccac36-974e-4f72-a951-af3dd65638ac",
   "metadata": {},
   "source": [
    "### 2.10: City"
   ]
  },
  {
   "cell_type": "code",
   "execution_count": 204,
   "id": "df418306-b675-4fcf-817f-9c6eb0526134",
   "metadata": {
    "tags": []
   },
   "outputs": [
    {
     "data": {
      "text/plain": [
       "['Roma',\n",
       " 'London',\n",
       " 'Amsterdam',\n",
       " 'Sydney',\n",
       " 'Athina',\n",
       " 'Tokyo',\n",
       " 'Mexico City',\n",
       " 'Rio de Janeiro',\n",
       " 'Helsinki',\n",
       " 'Sapporo',\n",
       " 'Antwerpen',\n",
       " 'Albertville',\n",
       " 'Atlanta',\n",
       " 'Nagano',\n",
       " 'Munich',\n",
       " 'Vancouver',\n",
       " 'Sochi',\n",
       " 'Beijing',\n",
       " 'Melbourne',\n",
       " 'Montreal',\n",
       " 'Barcelona',\n",
       " 'Seoul',\n",
       " 'Los Angeles',\n",
       " 'Salt Lake City',\n",
       " 'Innsbruck',\n",
       " 'Lake Placid',\n",
       " 'Berlin',\n",
       " \"Cortina d'Ampezzo\",\n",
       " 'Moskva',\n",
       " 'Lillehammer',\n",
       " 'Grenoble',\n",
       " 'Garmisch-Partenkirchen',\n",
       " 'Sarajevo',\n",
       " 'Calgary',\n",
       " 'Paris',\n",
       " 'Sankt Moritz',\n",
       " 'Stockholm',\n",
       " 'Torino',\n",
       " 'Squaw Valley',\n",
       " 'Oslo',\n",
       " 'St. Louis',\n",
       " 'Chamonix',\n",
       " nan]"
      ]
     },
     "execution_count": 204,
     "metadata": {},
     "output_type": "execute_result"
    }
   ],
   "source": [
    "olympics_dataset.City.unique().tolist()"
   ]
  },
  {
   "cell_type": "markdown",
   "id": "b04f34a2-eed2-469b-ba5d-b25d8e1af5b3",
   "metadata": {
    "tags": []
   },
   "source": [
    "### 2.11: Sport"
   ]
  },
  {
   "cell_type": "code",
   "execution_count": 205,
   "id": "c79d829e-6407-41a5-921d-8c45d816918c",
   "metadata": {
    "collapsed": true,
    "jupyter": {
     "outputs_hidden": true
    },
    "tags": []
   },
   "outputs": [
    {
     "data": {
      "text/plain": [
       "['Athletics',\n",
       " 'Gymnastics',\n",
       " 'Fencing',\n",
       " 'Volleyball',\n",
       " 'Hockey',\n",
       " 'Sailing',\n",
       " 'Boxing',\n",
       " 'Alpine Skiing',\n",
       " 'Nordic Combined',\n",
       " 'Basketball',\n",
       " 'Cross Country Skiing',\n",
       " 'Canoeing',\n",
       " 'Shooting',\n",
       " 'Football',\n",
       " 'Handball',\n",
       " 'Swimming',\n",
       " 'Weightlifting',\n",
       " 'Rowing',\n",
       " 'Beach Volleyball',\n",
       " 'Water Polo',\n",
       " 'Wrestling',\n",
       " 'Ice Hockey',\n",
       " 'Judo',\n",
       " 'Freestyle Skiing',\n",
       " 'Art Competitions',\n",
       " 'Cycling',\n",
       " 'Speed Skating',\n",
       " 'Table Tennis',\n",
       " 'Short Track Speed Skating',\n",
       " 'Luge',\n",
       " 'Equestrianism',\n",
       " 'Ski Jumping',\n",
       " 'Rugby Sevens',\n",
       " 'Taekwondo',\n",
       " 'Archery',\n",
       " 'Biathlon',\n",
       " 'Figure Skating',\n",
       " 'Rhythmic Gymnastics',\n",
       " 'Softball',\n",
       " 'Baseball',\n",
       " 'Bobsleigh',\n",
       " 'Jeu De Paume',\n",
       " 'Polo',\n",
       " 'Diving',\n",
       " 'Tennis',\n",
       " 'Tug-Of-War',\n",
       " 'Curling',\n",
       " 'Modern Pentathlon',\n",
       " 'Skeleton',\n",
       " 'Triathlon',\n",
       " 'Synchronized Swimming',\n",
       " 'Military Ski Patrol',\n",
       " 'Badminton',\n",
       " 'Snowboarding',\n",
       " 'Trampolining',\n",
       " 'Golf',\n",
       " 'Alpinism',\n",
       " 'Rugby',\n",
       " 'Lacrosse',\n",
       " 'Racquets',\n",
       " 'Croquet',\n",
       " 'Footba',\n",
       " 'Cricket',\n",
       " 'Motorboating',\n",
       " nan,\n",
       " 'Roque',\n",
       " 'Basque Pelota',\n",
       " 'Aeronautics']"
      ]
     },
     "execution_count": 205,
     "metadata": {},
     "output_type": "execute_result"
    }
   ],
   "source": [
    "olympics_dataset.Sport.unique().tolist()"
   ]
  },
  {
   "cell_type": "markdown",
   "id": "6680f2cc-cdc1-4c1c-98bd-0a4a00f07fe7",
   "metadata": {},
   "source": [
    "### 2.12: Event"
   ]
  },
  {
   "cell_type": "code",
   "execution_count": 206,
   "id": "0d5c19b4-b06b-4489-9715-626f07924ada",
   "metadata": {
    "collapsed": true,
    "jupyter": {
     "outputs_hidden": true
    },
    "tags": []
   },
   "outputs": [
    {
     "data": {
      "text/plain": [
       "[\"Shooting Men's Free Pistol, 50 metres, Team\",\n",
       " \"Wrestling Men's Lightweight, Freestyle\",\n",
       " \"Canoeing Men's Canadian Singles, 500 metres\",\n",
       " \"Skeleton Women's Skeleton\",\n",
       " \"Shooting Men's Small-Bore Rifle, Three Positions, 50 metres\",\n",
       " \"Diving Women's Platform\",\n",
       " \"Boxing Men's Super-Heavyweight\",\n",
       " \"Freestyle Skiing Women's Slopestyle\",\n",
       " \"Tennis Women's Doubles\",\n",
       " \"Boxing Women's Flyweight\",\n",
       " 'Art Competitions Mixed Literature',\n",
       " 'Art Competitions Mixed Literature, Unknown Event',\n",
       " \"Judo Men's Middleweight\",\n",
       " \"Speed Skating Women's 1,500 metres\",\n",
       " \"Speed Skating Women's 3,000 metres\"]"
      ]
     },
     "execution_count": 206,
     "metadata": {},
     "output_type": "execute_result"
    }
   ],
   "source": [
    "olympics_dataset.Event.unique().tolist()[345:360]"
   ]
  },
  {
   "cell_type": "markdown",
   "id": "86cf84cd-1f4f-4283-ba4b-2eb02ec1c151",
   "metadata": {},
   "source": [
    "### 2.13: Medal"
   ]
  },
  {
   "cell_type": "code",
   "execution_count": 207,
   "id": "c2221634-06af-45c6-ab04-e5d279030120",
   "metadata": {
    "collapsed": true,
    "jupyter": {
     "outputs_hidden": true
    },
    "tags": []
   },
   "outputs": [
    {
     "data": {
      "text/plain": [
       "[nan, 'Gold', 'Silver', 'Bronze']"
      ]
     },
     "execution_count": 207,
     "metadata": {},
     "output_type": "execute_result"
    }
   ],
   "source": [
    "olympics_dataset.Medal.unique().tolist()"
   ]
  },
  {
   "cell_type": "markdown",
   "id": "ddf12e84-a720-43e6-83ff-564d6ba3b47f",
   "metadata": {
    "tags": []
   },
   "source": [
    "### 2.14 Dealing with NaNs"
   ]
  },
  {
   "cell_type": "code",
   "execution_count": 208,
   "id": "546a8595-bd52-4ecb-b6ef-37671c9762e0",
   "metadata": {},
   "outputs": [
    {
     "data": {
      "text/plain": [
       "ID             0\n",
       "Name           0\n",
       "Sex            0\n",
       "Age         9315\n",
       "Height     58808\n",
       "Weight     61521\n",
       "Team           0\n",
       "NOC            1\n",
       "Games          2\n",
       "Year           4\n",
       "Season         4\n",
       "City           4\n",
       "Sport          4\n",
       "Event          5\n",
       "Medal     229936\n",
       "dtype: int64"
      ]
     },
     "execution_count": 208,
     "metadata": {},
     "output_type": "execute_result"
    }
   ],
   "source": [
    "olympics_dataset.isna().sum() #Amount of NaNs in each column"
   ]
  },
  {
   "cell_type": "code",
   "execution_count": 209,
   "id": "7accc677-d0e1-47fc-967f-7940dfed36d7",
   "metadata": {
    "collapsed": true,
    "jupyter": {
     "outputs_hidden": true
    },
    "tags": []
   },
   "outputs": [
    {
     "data": {
      "text/html": [
       "<div>\n",
       "<style scoped>\n",
       "    .dataframe tbody tr th:only-of-type {\n",
       "        vertical-align: middle;\n",
       "    }\n",
       "\n",
       "    .dataframe tbody tr th {\n",
       "        vertical-align: top;\n",
       "    }\n",
       "\n",
       "    .dataframe thead th {\n",
       "        text-align: right;\n",
       "    }\n",
       "</style>\n",
       "<table border=\"1\" class=\"dataframe\">\n",
       "  <thead>\n",
       "    <tr style=\"text-align: right;\">\n",
       "      <th></th>\n",
       "      <th>ID</th>\n",
       "      <th>Name</th>\n",
       "      <th>Sex</th>\n",
       "      <th>Age</th>\n",
       "      <th>Height</th>\n",
       "      <th>Weight</th>\n",
       "      <th>Team</th>\n",
       "      <th>NOC</th>\n",
       "      <th>Games</th>\n",
       "      <th>Year</th>\n",
       "      <th>Season</th>\n",
       "      <th>City</th>\n",
       "      <th>Sport</th>\n",
       "      <th>Event</th>\n",
       "      <th>Medal</th>\n",
       "    </tr>\n",
       "  </thead>\n",
       "  <tbody>\n",
       "    <tr>\n",
       "      <th>22835</th>\n",
       "      <td>12005</td>\n",
       "      <td>Andrea Melissa Blackett</td>\n",
       "      <td>F</td>\n",
       "      <td>24.0</td>\n",
       "      <td>167.0</td>\n",
       "      <td>59.0</td>\n",
       "      <td>Barbados</td>\n",
       "      <td>BAR</td>\n",
       "      <td>2000 Summer</td>\n",
       "      <td>NaN</td>\n",
       "      <td>NaN</td>\n",
       "      <td>NaN</td>\n",
       "      <td>NaN</td>\n",
       "      <td>NaN</td>\n",
       "      <td>NaN</td>\n",
       "    </tr>\n",
       "    <tr>\n",
       "      <th>22586</th>\n",
       "      <td>23433</td>\n",
       "      <td>Hadj Moussa Coulibaly</td>\n",
       "      <td>M</td>\n",
       "      <td>23.0</td>\n",
       "      <td>NaN</td>\n",
       "      <td>NaN</td>\n",
       "      <td>Mali</td>\n",
       "      <td>MLI</td>\n",
       "      <td>2004 Summe</td>\n",
       "      <td>NaN</td>\n",
       "      <td>NaN</td>\n",
       "      <td>NaN</td>\n",
       "      <td>NaN</td>\n",
       "      <td>NaN</td>\n",
       "      <td>NaN</td>\n",
       "    </tr>\n",
       "    <tr>\n",
       "      <th>22557</th>\n",
       "      <td>34727</td>\n",
       "      <td>Carlotta Ferlito</td>\n",
       "      <td>F</td>\n",
       "      <td>17.0</td>\n",
       "      <td>160.0</td>\n",
       "      <td>50.0</td>\n",
       "      <td>Italy</td>\n",
       "      <td>NaN</td>\n",
       "      <td>NaN</td>\n",
       "      <td>NaN</td>\n",
       "      <td>NaN</td>\n",
       "      <td>NaN</td>\n",
       "      <td>NaN</td>\n",
       "      <td>NaN</td>\n",
       "      <td>NaN</td>\n",
       "    </tr>\n",
       "    <tr>\n",
       "      <th>22659</th>\n",
       "      <td>45919</td>\n",
       "      <td>Yuka Harada</td>\n",
       "      <td>F</td>\n",
       "      <td>28.0</td>\n",
       "      <td>170.0</td>\n",
       "      <td>60.0</td>\n",
       "      <td>Japan</td>\n",
       "      <td>JP</td>\n",
       "      <td>NaN</td>\n",
       "      <td>NaN</td>\n",
       "      <td>NaN</td>\n",
       "      <td>NaN</td>\n",
       "      <td>NaN</td>\n",
       "      <td>NaN</td>\n",
       "      <td>NaN</td>\n",
       "    </tr>\n",
       "  </tbody>\n",
       "</table>\n",
       "</div>"
      ],
      "text/plain": [
       "          ID                     Name Sex   Age  Height  Weight      Team  \\\n",
       "22835  12005  Andrea Melissa Blackett   F  24.0   167.0    59.0  Barbados   \n",
       "22586  23433    Hadj Moussa Coulibaly   M  23.0     NaN     NaN      Mali   \n",
       "22557  34727         Carlotta Ferlito   F  17.0   160.0    50.0     Italy   \n",
       "22659  45919              Yuka Harada   F  28.0   170.0    60.0     Japan   \n",
       "\n",
       "       NOC        Games  Year Season City Sport Event Medal  \n",
       "22835  BAR  2000 Summer   NaN    NaN  NaN   NaN   NaN   NaN  \n",
       "22586  MLI   2004 Summe   NaN    NaN  NaN   NaN   NaN   NaN  \n",
       "22557  NaN          NaN   NaN    NaN  NaN   NaN   NaN   NaN  \n",
       "22659   JP          NaN   NaN    NaN  NaN   NaN   NaN   NaN  "
      ]
     },
     "execution_count": 209,
     "metadata": {},
     "output_type": "execute_result"
    }
   ],
   "source": [
    "olympics_dataset[olympics_dataset['City'].isnull()]"
   ]
  },
  {
   "cell_type": "markdown",
   "id": "6f837a6f-a68d-4f11-846b-a7e55662c187",
   "metadata": {},
   "source": [
    "Although there are some lines that contain a lot of NaN's, I decided to left them in dataset because they still have some information that can be used in further analysis"
   ]
  },
  {
   "cell_type": "code",
   "execution_count": 210,
   "id": "9d9064cd-cb1c-4bb9-b62b-0acd35081ac4",
   "metadata": {
    "collapsed": true,
    "jupyter": {
     "outputs_hidden": true
    },
    "tags": []
   },
   "outputs": [
    {
     "data": {
      "text/plain": [
       "269706"
      ]
     },
     "execution_count": 210,
     "metadata": {},
     "output_type": "execute_result"
    }
   ],
   "source": [
    "len(olympics_dataset) # New length of dataset, minus 24 rows from original dataset"
   ]
  },
  {
   "cell_type": "markdown",
   "id": "6bbc8ce5-5d6e-4d99-86f1-0542657df888",
   "metadata": {},
   "source": [
    "## Task 3: Finding youngest contestants in both sexes"
   ]
  },
  {
   "cell_type": "code",
   "execution_count": 211,
   "id": "fece661b-6723-46ac-98fe-575da361e0d6",
   "metadata": {
    "collapsed": true,
    "jupyter": {
     "outputs_hidden": true
    },
    "tags": []
   },
   "outputs": [
    {
     "data": {
      "text/plain": [
       "Sex\n",
       "F    11.0\n",
       "M    10.0\n",
       "Name: Age, dtype: float64"
      ]
     },
     "execution_count": 211,
     "metadata": {},
     "output_type": "execute_result"
    }
   ],
   "source": [
    "olympics_dataset.groupby('Sex')['Age'].min()"
   ]
  },
  {
   "cell_type": "code",
   "execution_count": 212,
   "id": "45496ea9-3065-46dc-b3a0-475eabb1d176",
   "metadata": {
    "tags": []
   },
   "outputs": [],
   "source": [
    "olymp_1992 = olympics_dataset[(olympics_dataset['Year'] == 1992)]\n",
    "youngest = olymp_1992.groupby('Sex')['Age'].min()"
   ]
  },
  {
   "cell_type": "code",
   "execution_count": 213,
   "id": "a617ae48-c957-40e3-9c80-635a03cbf013",
   "metadata": {},
   "outputs": [
    {
     "data": {
      "text/html": [
       "<div>\n",
       "<style scoped>\n",
       "    .dataframe tbody tr th:only-of-type {\n",
       "        vertical-align: middle;\n",
       "    }\n",
       "\n",
       "    .dataframe tbody tr th {\n",
       "        vertical-align: top;\n",
       "    }\n",
       "\n",
       "    .dataframe thead th {\n",
       "        text-align: right;\n",
       "    }\n",
       "</style>\n",
       "<table border=\"1\" class=\"dataframe\">\n",
       "  <thead>\n",
       "    <tr style=\"text-align: right;\">\n",
       "      <th></th>\n",
       "      <th>ID</th>\n",
       "      <th>Name</th>\n",
       "      <th>Sex</th>\n",
       "      <th>Age</th>\n",
       "      <th>Height</th>\n",
       "      <th>Weight</th>\n",
       "      <th>Team</th>\n",
       "      <th>NOC</th>\n",
       "      <th>Games</th>\n",
       "      <th>Year</th>\n",
       "      <th>Season</th>\n",
       "      <th>City</th>\n",
       "      <th>Sport</th>\n",
       "      <th>Event</th>\n",
       "      <th>Medal</th>\n",
       "    </tr>\n",
       "  </thead>\n",
       "  <tbody>\n",
       "    <tr>\n",
       "      <th>6990</th>\n",
       "      <td>60854</td>\n",
       "      <td>Judit Kiss</td>\n",
       "      <td>F</td>\n",
       "      <td>12.0</td>\n",
       "      <td>171.0</td>\n",
       "      <td>57.0</td>\n",
       "      <td>Hungary</td>\n",
       "      <td>HUN</td>\n",
       "      <td>1992 Summer</td>\n",
       "      <td>1992.0</td>\n",
       "      <td>Summer</td>\n",
       "      <td>Barcelona</td>\n",
       "      <td>Swimming</td>\n",
       "      <td>Swimming Women's 400 metres Freestyle</td>\n",
       "      <td>NaN</td>\n",
       "    </tr>\n",
       "    <tr>\n",
       "      <th>6991</th>\n",
       "      <td>60854</td>\n",
       "      <td>Judit Kiss</td>\n",
       "      <td>F</td>\n",
       "      <td>12.0</td>\n",
       "      <td>171.0</td>\n",
       "      <td>57.0</td>\n",
       "      <td>Hungary</td>\n",
       "      <td>HUN</td>\n",
       "      <td>1992 Summer</td>\n",
       "      <td>1992.0</td>\n",
       "      <td>Summer</td>\n",
       "      <td>Barcelona</td>\n",
       "      <td>Swimming</td>\n",
       "      <td>Swimming Women's 800 metres Freestyle</td>\n",
       "      <td>NaN</td>\n",
       "    </tr>\n",
       "  </tbody>\n",
       "</table>\n",
       "</div>"
      ],
      "text/plain": [
       "         ID        Name Sex   Age  Height  Weight     Team  NOC        Games  \\\n",
       "6990  60854  Judit Kiss   F  12.0   171.0    57.0  Hungary  HUN  1992 Summer   \n",
       "6991  60854  Judit Kiss   F  12.0   171.0    57.0  Hungary  HUN  1992 Summer   \n",
       "\n",
       "        Year  Season       City     Sport  \\\n",
       "6990  1992.0  Summer  Barcelona  Swimming   \n",
       "6991  1992.0  Summer  Barcelona  Swimming   \n",
       "\n",
       "                                      Event Medal  \n",
       "6990  Swimming Women's 400 metres Freestyle   NaN  \n",
       "6991  Swimming Women's 800 metres Freestyle   NaN  "
      ]
     },
     "execution_count": 213,
     "metadata": {},
     "output_type": "execute_result"
    }
   ],
   "source": [
    "olymp_1992[(olymp_1992['Sex'] == 'F') &\n",
    "           (olymp_1992['Age'] == youngest['F'])] # The youngest female contestant"
   ]
  },
  {
   "cell_type": "code",
   "execution_count": 214,
   "id": "fb936acf-0558-4383-9256-73d16019d288",
   "metadata": {},
   "outputs": [
    {
     "data": {
      "text/html": [
       "<div>\n",
       "<style scoped>\n",
       "    .dataframe tbody tr th:only-of-type {\n",
       "        vertical-align: middle;\n",
       "    }\n",
       "\n",
       "    .dataframe tbody tr th {\n",
       "        vertical-align: top;\n",
       "    }\n",
       "\n",
       "    .dataframe thead th {\n",
       "        text-align: right;\n",
       "    }\n",
       "</style>\n",
       "<table border=\"1\" class=\"dataframe\">\n",
       "  <thead>\n",
       "    <tr style=\"text-align: right;\">\n",
       "      <th></th>\n",
       "      <th>ID</th>\n",
       "      <th>Name</th>\n",
       "      <th>Sex</th>\n",
       "      <th>Age</th>\n",
       "      <th>Height</th>\n",
       "      <th>Weight</th>\n",
       "      <th>Team</th>\n",
       "      <th>NOC</th>\n",
       "      <th>Games</th>\n",
       "      <th>Year</th>\n",
       "      <th>Season</th>\n",
       "      <th>City</th>\n",
       "      <th>Sport</th>\n",
       "      <th>Event</th>\n",
       "      <th>Medal</th>\n",
       "    </tr>\n",
       "  </thead>\n",
       "  <tbody>\n",
       "    <tr>\n",
       "      <th>5480</th>\n",
       "      <td>37333</td>\n",
       "      <td>Carlos Bienvenido Front Barrera</td>\n",
       "      <td>M</td>\n",
       "      <td>11.0</td>\n",
       "      <td>NaN</td>\n",
       "      <td>NaN</td>\n",
       "      <td>Spain</td>\n",
       "      <td>ESP</td>\n",
       "      <td>1992 Summer</td>\n",
       "      <td>1992.0</td>\n",
       "      <td>Summer</td>\n",
       "      <td>Barcelona</td>\n",
       "      <td>Rowing</td>\n",
       "      <td>Rowing Men's Coxed Eights</td>\n",
       "      <td>NaN</td>\n",
       "    </tr>\n",
       "  </tbody>\n",
       "</table>\n",
       "</div>"
      ],
      "text/plain": [
       "         ID                             Name Sex   Age  Height  Weight   Team  \\\n",
       "5480  37333  Carlos Bienvenido Front Barrera   M  11.0     NaN     NaN  Spain   \n",
       "\n",
       "      NOC        Games    Year  Season       City   Sport  \\\n",
       "5480  ESP  1992 Summer  1992.0  Summer  Barcelona  Rowing   \n",
       "\n",
       "                          Event Medal  \n",
       "5480  Rowing Men's Coxed Eights   NaN  "
      ]
     },
     "execution_count": 214,
     "metadata": {},
     "output_type": "execute_result"
    }
   ],
   "source": [
    "olymp_1992[(olymp_1992['Sex'] == 'M') &\n",
    "           (olymp_1992['Age'] == youngest['M'])] # The youngest male contestant"
   ]
  },
  {
   "cell_type": "markdown",
   "id": "145c46f4-7af1-43ba-b7cd-c4b1a22b128d",
   "metadata": {},
   "source": [
    "## Task 4: Finding mean and standart deviation of heights of contestants"
   ]
  },
  {
   "cell_type": "code",
   "execution_count": 215,
   "id": "80720860-59eb-4a7c-b95c-06898b4d151e",
   "metadata": {
    "tags": []
   },
   "outputs": [
    {
     "data": {
      "text/html": [
       "<div>\n",
       "<style scoped>\n",
       "    .dataframe tbody tr th:only-of-type {\n",
       "        vertical-align: middle;\n",
       "    }\n",
       "\n",
       "    .dataframe tbody tr th {\n",
       "        vertical-align: top;\n",
       "    }\n",
       "\n",
       "    .dataframe thead th {\n",
       "        text-align: right;\n",
       "    }\n",
       "</style>\n",
       "<table border=\"1\" class=\"dataframe\">\n",
       "  <thead>\n",
       "    <tr style=\"text-align: right;\">\n",
       "      <th></th>\n",
       "      <th>count</th>\n",
       "      <th>mean</th>\n",
       "      <th>std</th>\n",
       "      <th>min</th>\n",
       "      <th>25%</th>\n",
       "      <th>50%</th>\n",
       "      <th>75%</th>\n",
       "      <th>max</th>\n",
       "    </tr>\n",
       "    <tr>\n",
       "      <th>Sex</th>\n",
       "      <th></th>\n",
       "      <th></th>\n",
       "      <th></th>\n",
       "      <th></th>\n",
       "      <th></th>\n",
       "      <th></th>\n",
       "      <th></th>\n",
       "      <th></th>\n",
       "    </tr>\n",
       "  </thead>\n",
       "  <tbody>\n",
       "    <tr>\n",
       "      <th>F</th>\n",
       "      <td>4130.0</td>\n",
       "      <td>168.297337</td>\n",
       "      <td>8.799602</td>\n",
       "      <td>136.0</td>\n",
       "      <td>163.0</td>\n",
       "      <td>168.0</td>\n",
       "      <td>174.0</td>\n",
       "      <td>204.0</td>\n",
       "    </tr>\n",
       "    <tr>\n",
       "      <th>M</th>\n",
       "      <td>9108.0</td>\n",
       "      <td>179.746596</td>\n",
       "      <td>9.451785</td>\n",
       "      <td>140.0</td>\n",
       "      <td>174.0</td>\n",
       "      <td>180.0</td>\n",
       "      <td>186.0</td>\n",
       "      <td>223.0</td>\n",
       "    </tr>\n",
       "  </tbody>\n",
       "</table>\n",
       "</div>"
      ],
      "text/plain": [
       "      count        mean       std    min    25%    50%    75%    max\n",
       "Sex                                                                 \n",
       "F    4130.0  168.297337  8.799602  136.0  163.0  168.0  174.0  204.0\n",
       "M    9108.0  179.746596  9.451785  140.0  174.0  180.0  186.0  223.0"
      ]
     },
     "execution_count": 215,
     "metadata": {},
     "output_type": "execute_result"
    }
   ],
   "source": [
    "olymp_1992.groupby('Sex')['Height'].describe()"
   ]
  },
  {
   "cell_type": "markdown",
   "id": "2f147522-9930-40ea-ac58-185d0ab3c675",
   "metadata": {
    "tags": []
   },
   "source": [
    "## Task 5: Find mean and std of heights of female tennis contestants that were at 2000 Olympics games"
   ]
  },
  {
   "cell_type": "code",
   "execution_count": 216,
   "id": "9f4251ea-7f72-4fc0-a5c6-1b8c6e156b78",
   "metadata": {},
   "outputs": [],
   "source": [
    "tennis_girls_2000 = olympics_dataset[(olympics_dataset['Year'] == 2000) &\n",
    "                                     (olympics_dataset['Sex'] == 'F') &\n",
    "                                     (olympics_dataset['Sport'] == 'Tennis')]"
   ]
  },
  {
   "cell_type": "code",
   "execution_count": 217,
   "id": "af7a4ac0-612f-454b-8eff-d74648b6a68a",
   "metadata": {
    "tags": []
   },
   "outputs": [
    {
     "name": "stdout",
     "output_type": "stream",
     "text": [
      "Standart deviation of height for females at tennis 2000 Olypics games is: 6.5\n",
      "Mean of height for females at tennis 2000 Olypics games is: 171.8\n"
     ]
    }
   ],
   "source": [
    "print('Standart deviation of height for females at tennis 2000 Olypics games is:', tennis_girls_2000['Height'].std().round(1))\n",
    "print('Mean of height for females at tennis 2000 Olypics games is:', tennis_girls_2000['Height'].mean().round(1))"
   ]
  },
  {
   "cell_type": "markdown",
   "id": "9e42293e-db78-47eb-aad9-8e473267eb67",
   "metadata": {
    "tags": []
   },
   "source": [
    "## Task 6: In what sport the heaviest contestant participated at 2006 Olympics?"
   ]
  },
  {
   "cell_type": "code",
   "execution_count": 222,
   "id": "426ae8ce-9da7-4663-858f-e7af26a8c1d1",
   "metadata": {},
   "outputs": [
    {
     "name": "stdout",
     "output_type": "stream",
     "text": [
      "The heaviest person that participated in Olympics games was Patrick R. Antaki And he participated in Skeleton\n"
     ]
    }
   ],
   "source": [
    "olymp_2006 = olympics_dataset[(olympics_dataset['Year'] == 2006)]\n",
    "max_weight = olymp_2006['Weight'].max()\n",
    "olymp_2006[(olymp_2006['Weight'] == max_weight)].iloc[:1]\n",
    "heaviest_person = olymp_2006[(olymp_2006['Weight'] == max_weight)].iloc[:1]\n",
    "print('The heaviest person that participated in Olympics games was', heaviest_person.Name.values[0], 'And he participated in', heaviest_person.Sport.values[0])"
   ]
  },
  {
   "cell_type": "markdown",
   "id": "bf6c3d09-d70a-441d-b4ae-9b4d787383f1",
   "metadata": {
    "tags": []
   },
   "source": [
    "## Task 7: How many gold medals women recieved in 1980-2010 years."
   ]
  },
  {
   "cell_type": "code",
   "execution_count": 223,
   "id": "dd3179d9-ca5a-4791-8936-969897353665",
   "metadata": {},
   "outputs": [
    {
     "name": "stdout",
     "output_type": "stream",
     "text": [
      "From 1980 to 2010 years 2249 women recieved gold medals\n"
     ]
    }
   ],
   "source": [
    "golden_women = olympics_dataset[(olympics_dataset['Sex'] == 'F') &\n",
    "                                (olympics_dataset['Medal'] == 'Gold') &\n",
    "                                (olympics_dataset['Year'] >= 1980) &\n",
    "                                (olympics_dataset['Year'] <= 2010)]\n",
    "print('From 1980 to 2010 years', len(golden_women), 'women recieved gold medals')"
   ]
  },
  {
   "cell_type": "markdown",
   "id": "0b70b074-a794-422d-b53e-41f5bcd1edfb",
   "metadata": {
    "tags": []
   },
   "source": [
    "## Task 8: How many times John Aalberg participated in Olympics games?"
   ]
  },
  {
   "cell_type": "code",
   "execution_count": 224,
   "id": "357675ba-13cb-455f-a618-1a5fc30458b5",
   "metadata": {},
   "outputs": [
    {
     "name": "stdout",
     "output_type": "stream",
     "text": [
      "John Aalberg participated 2 times\n"
     ]
    }
   ],
   "source": [
    "john_participated = olympics_dataset[(olympics_dataset['Name'] == 'John Aalberg')].Games.unique().tolist()\n",
    "print('John Aalberg participated', len(john_participated), 'times')"
   ]
  },
  {
   "cell_type": "markdown",
   "id": "bf3a368b-561a-44d2-9b4b-bcf3b8fecb64",
   "metadata": {
    "tags": []
   },
   "source": [
    "## Task 9: What age group is most represents at the Olympics ganes throught the years?"
   ]
  },
  {
   "cell_type": "code",
   "execution_count": 225,
   "id": "8cc0c430-8ffc-42c4-8133-2ecdffe3a151",
   "metadata": {},
   "outputs": [
    {
     "data": {
      "image/png": "[encoded data removed]",
      "text/plain": [
       "<Figure size 432x288 with 1 Axes>"
      ]
     },
     "metadata": {},
     "output_type": "display_data"
    }
   ],
   "source": [
    "olympics_dataset['bin'] = cut(olympics_dataset['Age'],\n",
    "                              [0, 15, 25, 35, 45, 55, float('inf')],\n",
    "                              labels=['under 15', '15 to 25', '25 to 35', '35 to 45', '45 to 55', '55 to older'])\n",
    "\n",
    "olympics_dataset['bin'].value_counts().sort_index().plot.bar();"
   ]
  },
  {
   "cell_type": "code",
   "execution_count": 226,
   "id": "75d27045-4020-4b16-872d-340a89ded19f",
   "metadata": {},
   "outputs": [
    {
     "name": "stdout",
     "output_type": "stream",
     "text": [
      "The most represented age group at the Olympics games is from 15 to 25 years\n"
     ]
    }
   ],
   "source": [
    "most_represented = olympics_dataset['bin'].value_counts().iloc[:1]\n",
    "print('The most represented age group at the Olympics games is from', most_represented.index[0], 'years')"
   ]
  },
  {
   "cell_type": "markdown",
   "id": "10996a32-0da4-4803-abe4-52be25d8d4d5",
   "metadata": {
    "tags": []
   },
   "source": [
    "## Task 10: Difference in sports variety between 2002 and 1994 years"
   ]
  },
  {
   "cell_type": "code",
   "execution_count": 237,
   "id": "ba63a3a5-b437-4e52-ad3b-ed7d7c59d845",
   "metadata": {},
   "outputs": [],
   "source": [
    "year_2002 = olympics_dataset[(olympics_dataset['Year'] == 2002)]\n",
    "year_1994 = olympics_dataset[(olympics_dataset['Year'] == 1994)]"
   ]
  },
  {
   "cell_type": "code",
   "execution_count": 246,
   "id": "9a57d9bd-17d8-4785-81a8-1c5909238758",
   "metadata": {},
   "outputs": [],
   "source": [
    "sports_in_2002 = year_2002.Sport.unique().tolist()\n",
    "sports_in_1994 = year_1994.Sport.unique().tolist()"
   ]
  },
  {
   "cell_type": "code",
   "execution_count": 258,
   "id": "54409237-4119-4e93-aae8-576abef04303",
   "metadata": {},
   "outputs": [
    {
     "name": "stdout",
     "output_type": "stream",
     "text": [
      "In 2002 there were 15 sport types and in 1994 there were 12 sport types.\n",
      "That makes a difference of 3.\n"
     ]
    }
   ],
   "source": [
    "print(f'In 2002 there were {len(sports_in_2002)} sport types and in 1994 there were {len(sports_in_1994)} sport types.')\n",
    "print(f'That makes a difference of {len(sports_in_2002) - len(sports_in_1994)}.')"
   ]
  },
  {
   "cell_type": "markdown",
   "id": "efa8d474-7b47-49b8-9505-f1a564fd6506",
   "metadata": {
    "tags": []
   },
   "source": [
    "## Task 11: Top 3 countries for winter and summer games"
   ]
  },
  {
   "cell_type": "code",
   "execution_count": 283,
   "id": "17053416-eaa9-4345-8778-67727f35fd6a",
   "metadata": {},
   "outputs": [],
   "source": [
    "summer_gold = olympics_dataset[(olympics_dataset['Season'] == 'Summer') &\n",
    "                              (olympics_dataset['Medal'] == 'Gold')]\n",
    "summer_silver = olympics_dataset[(olympics_dataset['Season'] == 'Summer') &\n",
    "                              (olympics_dataset['Medal'] == 'Silver')]\n",
    "summer_bronze = olympics_dataset[(olympics_dataset['Season'] == 'Summer') &\n",
    "                              (olympics_dataset['Medal'] == 'Bronze')]\n",
    "\n",
    "winter_gold = olympics_dataset[(olympics_dataset['Season'] == 'Winter') &\n",
    "                              (olympics_dataset['Medal'] == 'Gold')]\n",
    "winter_silver = olympics_dataset[(olympics_dataset['Season'] == 'Winter') &\n",
    "                              (olympics_dataset['Medal'] == 'Silver')]\n",
    "winter_bronze = olympics_dataset[(olympics_dataset['Season'] == 'Winter') &\n",
    "                              (olympics_dataset['Medal'] == 'Bronze')]"
   ]
  },
  {
   "cell_type": "code",
   "execution_count": 288,
   "id": "fbbf7b21-a5b7-4836-8f1e-e8a7d59f934c",
   "metadata": {},
   "outputs": [],
   "source": [
    "summer_gold_countries = summer_gold.groupby('NOC')['Medal'].count().sort_values(ascending = False)\n",
    "summer_silver_countries = summer_silver.groupby('NOC')['Medal'].count().sort_values(ascending = False)\n",
    "summer_bronze_countries = summer_bronze.groupby('NOC')['Medal'].count().sort_values(ascending = False)\n",
    "\n",
    "winter_gold_countries = winter_gold.groupby('NOC')['Medal'].count().sort_values(ascending = False)\n",
    "winter_silver_countries = winter_silver.groupby('NOC')['Medal'].count().sort_values(ascending = False)\n",
    "winter_bronze_countries = winter_bronze.groupby('NOC')['Medal'].count().sort_values(ascending = False)"
   ]
  },
  {
   "cell_type": "code",
   "execution_count": 313,
   "id": "48ae3948-b2e5-49af-982b-d8eba732974d",
   "metadata": {
    "collapsed": true,
    "jupyter": {
     "outputs_hidden": true
    },
    "tags": []
   },
   "outputs": [
    {
     "name": "stdout",
     "output_type": "stream",
     "text": [
      "Countries that recived biggest amount of golden medals in summer games:\n",
      "NOC\n",
      "USA    2472\n",
      "URS     832\n",
      "GBR     635\n",
      "Name: Medal, dtype: int64\n",
      "\n",
      "Countries that recived biggest amount of silver medals in summer games:\n",
      "NOC\n",
      "USA    1333\n",
      "GBR     729\n",
      "URS     635\n",
      "Name: Medal, dtype: int64\n",
      "\n",
      "Countries that recived biggest amount of bronze medals in summer games:\n",
      "NOC\n",
      "USA    1197\n",
      "GER     649\n",
      "GBR     620\n",
      "Name: Medal, dtype: int64\n",
      "\n",
      "Countries that recived biggest amount of golden medals in winter games:\n",
      "NOC\n",
      "CAN    305\n",
      "URS    250\n",
      "USA    166\n",
      "Name: Medal, dtype: int64\n",
      "\n",
      "Countries that recived biggest amount of silver medals in winter games:\n",
      "NOC\n",
      "USA    308\n",
      "CAN    199\n",
      "NOR    165\n",
      "Name: Medal, dtype: int64\n",
      "\n",
      "Countries that recived biggest amount of bronze medals in winter games:\n",
      "NOC\n",
      "FIN    215\n",
      "SWE    177\n",
      "USA    161\n",
      "Name: Medal, dtype: int64\n",
      "\n"
     ]
    }
   ],
   "source": [
    "print(f'Countries that recived biggest amount of golden medals in summer games:\\n{summer_gold_countries.head(3)}\\n')\n",
    "print(f'Countries that recived biggest amount of silver medals in summer games:\\n{summer_silver_countries.head(3)}\\n')\n",
    "print(f'Countries that recived biggest amount of bronze medals in summer games:\\n{summer_bronze_countries.head(3)}\\n')\n",
    "\n",
    "print(f'Countries that recived biggest amount of golden medals in winter games:\\n{winter_gold_countries.head(3)}\\n')\n",
    "print(f'Countries that recived biggest amount of silver medals in winter games:\\n{winter_silver_countries.head(3)}\\n')\n",
    "print(f'Countries that recived biggest amount of bronze medals in winter games:\\n{winter_bronze_countries.head(3)}\\n')"
   ]
  },
  {
   "cell_type": "markdown",
   "id": "fa11bff0-3b95-49d5-b5da-ad0ecf677647",
   "metadata": {
    "jp-MarkdownHeadingCollapsed": true,
    "tags": []
   },
   "source": [
    "## Task 12: Create new column with z-scores for hights"
   ]
  },
  {
   "cell_type": "code",
   "execution_count": 15,
   "id": "7f6815d9-df88-4921-ace6-d5d1efef787d",
   "metadata": {
    "tags": []
   },
   "outputs": [
    {
     "data": {
      "text/html": [
       "<div>\n",
       "<style scoped>\n",
       "    .dataframe tbody tr th:only-of-type {\n",
       "        vertical-align: middle;\n",
       "    }\n",
       "\n",
       "    .dataframe tbody tr th {\n",
       "        vertical-align: top;\n",
       "    }\n",
       "\n",
       "    .dataframe thead th {\n",
       "        text-align: right;\n",
       "    }\n",
       "</style>\n",
       "<table border=\"1\" class=\"dataframe\">\n",
       "  <thead>\n",
       "    <tr style=\"text-align: right;\">\n",
       "      <th></th>\n",
       "      <th>ID</th>\n",
       "      <th>Name</th>\n",
       "      <th>Sex</th>\n",
       "      <th>Age</th>\n",
       "      <th>Height</th>\n",
       "      <th>Weight</th>\n",
       "      <th>Team</th>\n",
       "      <th>NOC</th>\n",
       "      <th>Games</th>\n",
       "      <th>Year</th>\n",
       "      <th>Season</th>\n",
       "      <th>City</th>\n",
       "      <th>Sport</th>\n",
       "      <th>Event</th>\n",
       "      <th>Medal</th>\n",
       "      <th>Height_z_scores</th>\n",
       "    </tr>\n",
       "  </thead>\n",
       "  <tbody>\n",
       "    <tr>\n",
       "      <th>0</th>\n",
       "      <td>79588</td>\n",
       "      <td>Rodolfo Mijares Garza</td>\n",
       "      <td>M</td>\n",
       "      <td>22.0</td>\n",
       "      <td>180.0</td>\n",
       "      <td>75.0</td>\n",
       "      <td>Mexico</td>\n",
       "      <td>MEX</td>\n",
       "      <td>1960 Summer</td>\n",
       "      <td>1960.0</td>\n",
       "      <td>Summer</td>\n",
       "      <td>Roma</td>\n",
       "      <td>Athletics</td>\n",
       "      <td>Athletics Men's Decathlon</td>\n",
       "      <td>NaN</td>\n",
       "      <td>0.443150</td>\n",
       "    </tr>\n",
       "    <tr>\n",
       "      <th>1</th>\n",
       "      <td>79589</td>\n",
       "      <td>Zlatica Mijatovi</td>\n",
       "      <td>F</td>\n",
       "      <td>26.0</td>\n",
       "      <td>NaN</td>\n",
       "      <td>NaN</td>\n",
       "      <td>Yugoslavia</td>\n",
       "      <td>YUG</td>\n",
       "      <td>1948 Summer</td>\n",
       "      <td>1948.0</td>\n",
       "      <td>Summer</td>\n",
       "      <td>London</td>\n",
       "      <td>Gymnastics</td>\n",
       "      <td>Gymnastics Women's Team All-Around</td>\n",
       "      <td>NaN</td>\n",
       "      <td>NaN</td>\n",
       "    </tr>\n",
       "    <tr>\n",
       "      <th>2</th>\n",
       "      <td>79590</td>\n",
       "      <td>Pieter Mijer</td>\n",
       "      <td>M</td>\n",
       "      <td>47.0</td>\n",
       "      <td>NaN</td>\n",
       "      <td>NaN</td>\n",
       "      <td>Netherlands</td>\n",
       "      <td>NED</td>\n",
       "      <td>1928 Summer</td>\n",
       "      <td>1928.0</td>\n",
       "      <td>Summer</td>\n",
       "      <td>Amsterdam</td>\n",
       "      <td>Fencing</td>\n",
       "      <td>Fencing Men's epee, Individual</td>\n",
       "      <td>NaN</td>\n",
       "      <td>NaN</td>\n",
       "    </tr>\n",
       "    <tr>\n",
       "      <th>3</th>\n",
       "      <td>79591</td>\n",
       "      <td>Vasa Miji</td>\n",
       "      <td>M</td>\n",
       "      <td>27.0</td>\n",
       "      <td>186.0</td>\n",
       "      <td>80.0</td>\n",
       "      <td>Serbia and Montenegro</td>\n",
       "      <td>SCG</td>\n",
       "      <td>2000 Summer</td>\n",
       "      <td>2000.0</td>\n",
       "      <td>Summer</td>\n",
       "      <td>Sydney</td>\n",
       "      <td>Volleyball</td>\n",
       "      <td>Volleyball Men's Volleyball</td>\n",
       "      <td>Gold</td>\n",
       "      <td>1.013569</td>\n",
       "    </tr>\n",
       "    <tr>\n",
       "      <th>4</th>\n",
       "      <td>79591</td>\n",
       "      <td>Vasa Miji</td>\n",
       "      <td>M</td>\n",
       "      <td>31.0</td>\n",
       "      <td>186.0</td>\n",
       "      <td>80.0</td>\n",
       "      <td>Serbia and Montenegro</td>\n",
       "      <td>SCG</td>\n",
       "      <td>2004 Summer</td>\n",
       "      <td>2004.0</td>\n",
       "      <td>Summer</td>\n",
       "      <td>Athina</td>\n",
       "      <td>Volleyball</td>\n",
       "      <td>Volleyball Men's Volleyball</td>\n",
       "      <td>NaN</td>\n",
       "      <td>1.013569</td>\n",
       "    </tr>\n",
       "    <tr>\n",
       "      <th>...</th>\n",
       "      <td>...</td>\n",
       "      <td>...</td>\n",
       "      <td>...</td>\n",
       "      <td>...</td>\n",
       "      <td>...</td>\n",
       "      <td>...</td>\n",
       "      <td>...</td>\n",
       "      <td>...</td>\n",
       "      <td>...</td>\n",
       "      <td>...</td>\n",
       "      <td>...</td>\n",
       "      <td>...</td>\n",
       "      <td>...</td>\n",
       "      <td>...</td>\n",
       "      <td>...</td>\n",
       "      <td>...</td>\n",
       "    </tr>\n",
       "    <tr>\n",
       "      <th>22655</th>\n",
       "      <td>45917</td>\n",
       "      <td>Saho Harada</td>\n",
       "      <td>F</td>\n",
       "      <td>25.0</td>\n",
       "      <td>166.0</td>\n",
       "      <td>56.0</td>\n",
       "      <td>Japan</td>\n",
       "      <td>JPN</td>\n",
       "      <td>2008 Summer</td>\n",
       "      <td>2008.0</td>\n",
       "      <td>Summer</td>\n",
       "      <td>Beijing</td>\n",
       "      <td>Synchronized Swimming</td>\n",
       "      <td>Synchronized Swimming Women's Duet</td>\n",
       "      <td>Bronze</td>\n",
       "      <td>-0.887826</td>\n",
       "    </tr>\n",
       "    <tr>\n",
       "      <th>22656</th>\n",
       "      <td>45917</td>\n",
       "      <td>Saho Harada</td>\n",
       "      <td>F</td>\n",
       "      <td>25.0</td>\n",
       "      <td>166.0</td>\n",
       "      <td>56.0</td>\n",
       "      <td>Japan</td>\n",
       "      <td>JPN</td>\n",
       "      <td>2008 Summer</td>\n",
       "      <td>2008.0</td>\n",
       "      <td>Summer</td>\n",
       "      <td>Beijing</td>\n",
       "      <td>Synchronized Swimming</td>\n",
       "      <td>Synchronized Swimming Women's Team</td>\n",
       "      <td>NaN</td>\n",
       "      <td>-0.887826</td>\n",
       "    </tr>\n",
       "    <tr>\n",
       "      <th>22657</th>\n",
       "      <td>45918</td>\n",
       "      <td>Takeichi Harada</td>\n",
       "      <td>M</td>\n",
       "      <td>24.0</td>\n",
       "      <td>NaN</td>\n",
       "      <td>NaN</td>\n",
       "      <td>Japan</td>\n",
       "      <td>JPN</td>\n",
       "      <td>1924 Summer</td>\n",
       "      <td>1924.0</td>\n",
       "      <td>Summer</td>\n",
       "      <td>Paris</td>\n",
       "      <td>Tennis</td>\n",
       "      <td>Tennis Men's Singles</td>\n",
       "      <td>NaN</td>\n",
       "      <td>NaN</td>\n",
       "    </tr>\n",
       "    <tr>\n",
       "      <th>22658</th>\n",
       "      <td>45918</td>\n",
       "      <td>Takeichi Harada</td>\n",
       "      <td>M</td>\n",
       "      <td>24.0</td>\n",
       "      <td>NaN</td>\n",
       "      <td>NaN</td>\n",
       "      <td>Japan-2</td>\n",
       "      <td>JPN</td>\n",
       "      <td>1924 Summer</td>\n",
       "      <td>1924.0</td>\n",
       "      <td>Summer</td>\n",
       "      <td>Paris</td>\n",
       "      <td>Tennis</td>\n",
       "      <td>Tennis Men's Doubles</td>\n",
       "      <td>NaN</td>\n",
       "      <td>NaN</td>\n",
       "    </tr>\n",
       "    <tr>\n",
       "      <th>22659</th>\n",
       "      <td>45919</td>\n",
       "      <td>Yuka Harada</td>\n",
       "      <td>F</td>\n",
       "      <td>28.0</td>\n",
       "      <td>170.0</td>\n",
       "      <td>60.0</td>\n",
       "      <td>Japan</td>\n",
       "      <td>JP</td>\n",
       "      <td>NaN</td>\n",
       "      <td>NaN</td>\n",
       "      <td>NaN</td>\n",
       "      <td>NaN</td>\n",
       "      <td>NaN</td>\n",
       "      <td>NaN</td>\n",
       "      <td>NaN</td>\n",
       "      <td>-0.507547</td>\n",
       "    </tr>\n",
       "  </tbody>\n",
       "</table>\n",
       "<p>269706 rows × 16 columns</p>\n",
       "</div>"
      ],
      "text/plain": [
       "          ID                   Name Sex   Age  Height  Weight  \\\n",
       "0      79588  Rodolfo Mijares Garza   M  22.0   180.0    75.0   \n",
       "1      79589       Zlatica Mijatovi   F  26.0     NaN     NaN   \n",
       "2      79590           Pieter Mijer   M  47.0     NaN     NaN   \n",
       "3      79591              Vasa Miji   M  27.0   186.0    80.0   \n",
       "4      79591              Vasa Miji   M  31.0   186.0    80.0   \n",
       "...      ...                    ...  ..   ...     ...     ...   \n",
       "22655  45917            Saho Harada   F  25.0   166.0    56.0   \n",
       "22656  45917            Saho Harada   F  25.0   166.0    56.0   \n",
       "22657  45918        Takeichi Harada   M  24.0     NaN     NaN   \n",
       "22658  45918        Takeichi Harada   M  24.0     NaN     NaN   \n",
       "22659  45919            Yuka Harada   F  28.0   170.0    60.0   \n",
       "\n",
       "                        Team  NOC        Games    Year  Season       City  \\\n",
       "0                     Mexico  MEX  1960 Summer  1960.0  Summer       Roma   \n",
       "1                 Yugoslavia  YUG  1948 Summer  1948.0  Summer     London   \n",
       "2                Netherlands  NED  1928 Summer  1928.0  Summer  Amsterdam   \n",
       "3      Serbia and Montenegro  SCG  2000 Summer  2000.0  Summer     Sydney   \n",
       "4      Serbia and Montenegro  SCG  2004 Summer  2004.0  Summer     Athina   \n",
       "...                      ...  ...          ...     ...     ...        ...   \n",
       "22655                  Japan  JPN  2008 Summer  2008.0  Summer    Beijing   \n",
       "22656                  Japan  JPN  2008 Summer  2008.0  Summer    Beijing   \n",
       "22657                  Japan  JPN  1924 Summer  1924.0  Summer      Paris   \n",
       "22658                Japan-2  JPN  1924 Summer  1924.0  Summer      Paris   \n",
       "22659                  Japan   JP          NaN     NaN     NaN        NaN   \n",
       "\n",
       "                       Sport                               Event   Medal  \\\n",
       "0                  Athletics           Athletics Men's Decathlon     NaN   \n",
       "1                 Gymnastics  Gymnastics Women's Team All-Around     NaN   \n",
       "2                    Fencing      Fencing Men's epee, Individual     NaN   \n",
       "3                 Volleyball         Volleyball Men's Volleyball    Gold   \n",
       "4                 Volleyball         Volleyball Men's Volleyball     NaN   \n",
       "...                      ...                                 ...     ...   \n",
       "22655  Synchronized Swimming  Synchronized Swimming Women's Duet  Bronze   \n",
       "22656  Synchronized Swimming  Synchronized Swimming Women's Team     NaN   \n",
       "22657                 Tennis                Tennis Men's Singles     NaN   \n",
       "22658                 Tennis                Tennis Men's Doubles     NaN   \n",
       "22659                    NaN                                 NaN     NaN   \n",
       "\n",
       "       Height_z_scores  \n",
       "0             0.443150  \n",
       "1                  NaN  \n",
       "2                  NaN  \n",
       "3             1.013569  \n",
       "4             1.013569  \n",
       "...                ...  \n",
       "22655        -0.887826  \n",
       "22656        -0.887826  \n",
       "22657              NaN  \n",
       "22658              NaN  \n",
       "22659        -0.507547  \n",
       "\n",
       "[269706 rows x 16 columns]"
      ]
     },
     "execution_count": 15,
     "metadata": {},
     "output_type": "execute_result"
    }
   ],
   "source": [
    "olympics_dataset['Height_z_scores'] = zscore(olympics_dataset['Height'], nan_policy='omit')\n",
    "olympics_dataset"
   ]
  },
  {
   "cell_type": "markdown",
   "id": "cf9ddecb-4a42-4616-ab49-d27bb51f6502",
   "metadata": {
    "tags": []
   },
   "source": [
    "## Task 13: Create column Height_min_max_scaled and put there values of min-max normalisation"
   ]
  },
  {
   "cell_type": "markdown",
   "id": "9ebe29ed-c44b-40b5-8782-7d94a7dd7ce0",
   "metadata": {},
   "source": [
    "Take formula from wikipedia [page](https://en.wikipedia.org/wiki/Feature_scaling)"
   ]
  },
  {
   "cell_type": "code",
   "execution_count": 180,
   "id": "7a19cf70-ffa7-4293-9d46-3c0d6685354b",
   "metadata": {},
   "outputs": [],
   "source": [
    "min_height = olympics_dataset['Height'].min()\n",
    "max_height = olympics_dataset['Height'].max()"
   ]
  },
  {
   "cell_type": "code",
   "execution_count": 184,
   "id": "eed1bdd6-501a-488c-8434-5f79bf1a8362",
   "metadata": {},
   "outputs": [
    {
     "data": {
      "text/html": [
       "<div>\n",
       "<style scoped>\n",
       "    .dataframe tbody tr th:only-of-type {\n",
       "        vertical-align: middle;\n",
       "    }\n",
       "\n",
       "    .dataframe tbody tr th {\n",
       "        vertical-align: top;\n",
       "    }\n",
       "\n",
       "    .dataframe thead th {\n",
       "        text-align: right;\n",
       "    }\n",
       "</style>\n",
       "<table border=\"1\" class=\"dataframe\">\n",
       "  <thead>\n",
       "    <tr style=\"text-align: right;\">\n",
       "      <th></th>\n",
       "      <th>ID</th>\n",
       "      <th>Name</th>\n",
       "      <th>Sex</th>\n",
       "      <th>Age</th>\n",
       "      <th>Height</th>\n",
       "      <th>Weight</th>\n",
       "      <th>Team</th>\n",
       "      <th>NOC</th>\n",
       "      <th>Games</th>\n",
       "      <th>Year</th>\n",
       "      <th>Season</th>\n",
       "      <th>City</th>\n",
       "      <th>Sport</th>\n",
       "      <th>Event</th>\n",
       "      <th>Medal</th>\n",
       "      <th>Height_z_scores</th>\n",
       "      <th>Height_min_max_scaled</th>\n",
       "    </tr>\n",
       "  </thead>\n",
       "  <tbody>\n",
       "    <tr>\n",
       "      <th>0</th>\n",
       "      <td>79588</td>\n",
       "      <td>Rodolfo Mijares Garza</td>\n",
       "      <td>M</td>\n",
       "      <td>22.0</td>\n",
       "      <td>180.0</td>\n",
       "      <td>75.0</td>\n",
       "      <td>Mexico</td>\n",
       "      <td>MEX</td>\n",
       "      <td>1960 Summer</td>\n",
       "      <td>1960.0</td>\n",
       "      <td>Summer</td>\n",
       "      <td>Roma</td>\n",
       "      <td>Athletics</td>\n",
       "      <td>Athletics Men's Decathlon</td>\n",
       "      <td>NaN</td>\n",
       "      <td>0.443150</td>\n",
       "      <td>0.535354</td>\n",
       "    </tr>\n",
       "    <tr>\n",
       "      <th>1</th>\n",
       "      <td>79589</td>\n",
       "      <td>Zlatica Mijatovi</td>\n",
       "      <td>F</td>\n",
       "      <td>26.0</td>\n",
       "      <td>NaN</td>\n",
       "      <td>NaN</td>\n",
       "      <td>Yugoslavia</td>\n",
       "      <td>YUG</td>\n",
       "      <td>1948 Summer</td>\n",
       "      <td>1948.0</td>\n",
       "      <td>Summer</td>\n",
       "      <td>London</td>\n",
       "      <td>Gymnastics</td>\n",
       "      <td>Gymnastics Women's Team All-Around</td>\n",
       "      <td>NaN</td>\n",
       "      <td>NaN</td>\n",
       "      <td>NaN</td>\n",
       "    </tr>\n",
       "    <tr>\n",
       "      <th>2</th>\n",
       "      <td>79590</td>\n",
       "      <td>Pieter Mijer</td>\n",
       "      <td>M</td>\n",
       "      <td>47.0</td>\n",
       "      <td>NaN</td>\n",
       "      <td>NaN</td>\n",
       "      <td>Netherlands</td>\n",
       "      <td>NED</td>\n",
       "      <td>1928 Summer</td>\n",
       "      <td>1928.0</td>\n",
       "      <td>Summer</td>\n",
       "      <td>Amsterdam</td>\n",
       "      <td>Fencing</td>\n",
       "      <td>Fencing Men's epee, Individual</td>\n",
       "      <td>NaN</td>\n",
       "      <td>NaN</td>\n",
       "      <td>NaN</td>\n",
       "    </tr>\n",
       "    <tr>\n",
       "      <th>3</th>\n",
       "      <td>79591</td>\n",
       "      <td>Vasa Miji</td>\n",
       "      <td>M</td>\n",
       "      <td>27.0</td>\n",
       "      <td>186.0</td>\n",
       "      <td>80.0</td>\n",
       "      <td>Serbia and Montenegro</td>\n",
       "      <td>SCG</td>\n",
       "      <td>2000 Summer</td>\n",
       "      <td>2000.0</td>\n",
       "      <td>Summer</td>\n",
       "      <td>Sydney</td>\n",
       "      <td>Volleyball</td>\n",
       "      <td>Volleyball Men's Volleyball</td>\n",
       "      <td>Gold</td>\n",
       "      <td>1.013569</td>\n",
       "      <td>0.595960</td>\n",
       "    </tr>\n",
       "    <tr>\n",
       "      <th>4</th>\n",
       "      <td>79591</td>\n",
       "      <td>Vasa Miji</td>\n",
       "      <td>M</td>\n",
       "      <td>31.0</td>\n",
       "      <td>186.0</td>\n",
       "      <td>80.0</td>\n",
       "      <td>Serbia and Montenegro</td>\n",
       "      <td>SCG</td>\n",
       "      <td>2004 Summer</td>\n",
       "      <td>2004.0</td>\n",
       "      <td>Summer</td>\n",
       "      <td>Athina</td>\n",
       "      <td>Volleyball</td>\n",
       "      <td>Volleyball Men's Volleyball</td>\n",
       "      <td>NaN</td>\n",
       "      <td>1.013569</td>\n",
       "      <td>0.595960</td>\n",
       "    </tr>\n",
       "    <tr>\n",
       "      <th>...</th>\n",
       "      <td>...</td>\n",
       "      <td>...</td>\n",
       "      <td>...</td>\n",
       "      <td>...</td>\n",
       "      <td>...</td>\n",
       "      <td>...</td>\n",
       "      <td>...</td>\n",
       "      <td>...</td>\n",
       "      <td>...</td>\n",
       "      <td>...</td>\n",
       "      <td>...</td>\n",
       "      <td>...</td>\n",
       "      <td>...</td>\n",
       "      <td>...</td>\n",
       "      <td>...</td>\n",
       "      <td>...</td>\n",
       "      <td>...</td>\n",
       "    </tr>\n",
       "    <tr>\n",
       "      <th>22655</th>\n",
       "      <td>45917</td>\n",
       "      <td>Saho Harada</td>\n",
       "      <td>F</td>\n",
       "      <td>25.0</td>\n",
       "      <td>166.0</td>\n",
       "      <td>56.0</td>\n",
       "      <td>Japan</td>\n",
       "      <td>JPN</td>\n",
       "      <td>2008 Summer</td>\n",
       "      <td>2008.0</td>\n",
       "      <td>Summer</td>\n",
       "      <td>Beijing</td>\n",
       "      <td>Synchronized Swimming</td>\n",
       "      <td>Synchronized Swimming Women's Duet</td>\n",
       "      <td>Bronze</td>\n",
       "      <td>-0.887826</td>\n",
       "      <td>0.393939</td>\n",
       "    </tr>\n",
       "    <tr>\n",
       "      <th>22656</th>\n",
       "      <td>45917</td>\n",
       "      <td>Saho Harada</td>\n",
       "      <td>F</td>\n",
       "      <td>25.0</td>\n",
       "      <td>166.0</td>\n",
       "      <td>56.0</td>\n",
       "      <td>Japan</td>\n",
       "      <td>JPN</td>\n",
       "      <td>2008 Summer</td>\n",
       "      <td>2008.0</td>\n",
       "      <td>Summer</td>\n",
       "      <td>Beijing</td>\n",
       "      <td>Synchronized Swimming</td>\n",
       "      <td>Synchronized Swimming Women's Team</td>\n",
       "      <td>NaN</td>\n",
       "      <td>-0.887826</td>\n",
       "      <td>0.393939</td>\n",
       "    </tr>\n",
       "    <tr>\n",
       "      <th>22657</th>\n",
       "      <td>45918</td>\n",
       "      <td>Takeichi Harada</td>\n",
       "      <td>M</td>\n",
       "      <td>24.0</td>\n",
       "      <td>NaN</td>\n",
       "      <td>NaN</td>\n",
       "      <td>Japan</td>\n",
       "      <td>JPN</td>\n",
       "      <td>1924 Summer</td>\n",
       "      <td>1924.0</td>\n",
       "      <td>Summer</td>\n",
       "      <td>Paris</td>\n",
       "      <td>Tennis</td>\n",
       "      <td>Tennis Men's Singles</td>\n",
       "      <td>NaN</td>\n",
       "      <td>NaN</td>\n",
       "      <td>NaN</td>\n",
       "    </tr>\n",
       "    <tr>\n",
       "      <th>22658</th>\n",
       "      <td>45918</td>\n",
       "      <td>Takeichi Harada</td>\n",
       "      <td>M</td>\n",
       "      <td>24.0</td>\n",
       "      <td>NaN</td>\n",
       "      <td>NaN</td>\n",
       "      <td>Japan-2</td>\n",
       "      <td>JPN</td>\n",
       "      <td>1924 Summer</td>\n",
       "      <td>1924.0</td>\n",
       "      <td>Summer</td>\n",
       "      <td>Paris</td>\n",
       "      <td>Tennis</td>\n",
       "      <td>Tennis Men's Doubles</td>\n",
       "      <td>NaN</td>\n",
       "      <td>NaN</td>\n",
       "      <td>NaN</td>\n",
       "    </tr>\n",
       "    <tr>\n",
       "      <th>22659</th>\n",
       "      <td>45919</td>\n",
       "      <td>Yuka Harada</td>\n",
       "      <td>F</td>\n",
       "      <td>28.0</td>\n",
       "      <td>170.0</td>\n",
       "      <td>60.0</td>\n",
       "      <td>Japan</td>\n",
       "      <td>JP</td>\n",
       "      <td>NaN</td>\n",
       "      <td>NaN</td>\n",
       "      <td>NaN</td>\n",
       "      <td>NaN</td>\n",
       "      <td>NaN</td>\n",
       "      <td>NaN</td>\n",
       "      <td>NaN</td>\n",
       "      <td>-0.507547</td>\n",
       "      <td>0.434343</td>\n",
       "    </tr>\n",
       "  </tbody>\n",
       "</table>\n",
       "<p>269706 rows × 17 columns</p>\n",
       "</div>"
      ],
      "text/plain": [
       "          ID                   Name Sex   Age  Height  Weight  \\\n",
       "0      79588  Rodolfo Mijares Garza   M  22.0   180.0    75.0   \n",
       "1      79589       Zlatica Mijatovi   F  26.0     NaN     NaN   \n",
       "2      79590           Pieter Mijer   M  47.0     NaN     NaN   \n",
       "3      79591              Vasa Miji   M  27.0   186.0    80.0   \n",
       "4      79591              Vasa Miji   M  31.0   186.0    80.0   \n",
       "...      ...                    ...  ..   ...     ...     ...   \n",
       "22655  45917            Saho Harada   F  25.0   166.0    56.0   \n",
       "22656  45917            Saho Harada   F  25.0   166.0    56.0   \n",
       "22657  45918        Takeichi Harada   M  24.0     NaN     NaN   \n",
       "22658  45918        Takeichi Harada   M  24.0     NaN     NaN   \n",
       "22659  45919            Yuka Harada   F  28.0   170.0    60.0   \n",
       "\n",
       "                        Team  NOC        Games    Year  Season       City  \\\n",
       "0                     Mexico  MEX  1960 Summer  1960.0  Summer       Roma   \n",
       "1                 Yugoslavia  YUG  1948 Summer  1948.0  Summer     London   \n",
       "2                Netherlands  NED  1928 Summer  1928.0  Summer  Amsterdam   \n",
       "3      Serbia and Montenegro  SCG  2000 Summer  2000.0  Summer     Sydney   \n",
       "4      Serbia and Montenegro  SCG  2004 Summer  2004.0  Summer     Athina   \n",
       "...                      ...  ...          ...     ...     ...        ...   \n",
       "22655                  Japan  JPN  2008 Summer  2008.0  Summer    Beijing   \n",
       "22656                  Japan  JPN  2008 Summer  2008.0  Summer    Beijing   \n",
       "22657                  Japan  JPN  1924 Summer  1924.0  Summer      Paris   \n",
       "22658                Japan-2  JPN  1924 Summer  1924.0  Summer      Paris   \n",
       "22659                  Japan   JP          NaN     NaN     NaN        NaN   \n",
       "\n",
       "                       Sport                               Event   Medal  \\\n",
       "0                  Athletics           Athletics Men's Decathlon     NaN   \n",
       "1                 Gymnastics  Gymnastics Women's Team All-Around     NaN   \n",
       "2                    Fencing      Fencing Men's epee, Individual     NaN   \n",
       "3                 Volleyball         Volleyball Men's Volleyball    Gold   \n",
       "4                 Volleyball         Volleyball Men's Volleyball     NaN   \n",
       "...                      ...                                 ...     ...   \n",
       "22655  Synchronized Swimming  Synchronized Swimming Women's Duet  Bronze   \n",
       "22656  Synchronized Swimming  Synchronized Swimming Women's Team     NaN   \n",
       "22657                 Tennis                Tennis Men's Singles     NaN   \n",
       "22658                 Tennis                Tennis Men's Doubles     NaN   \n",
       "22659                    NaN                                 NaN     NaN   \n",
       "\n",
       "       Height_z_scores  Height_min_max_scaled  \n",
       "0             0.443150               0.535354  \n",
       "1                  NaN                    NaN  \n",
       "2                  NaN                    NaN  \n",
       "3             1.013569               0.595960  \n",
       "4             1.013569               0.595960  \n",
       "...                ...                    ...  \n",
       "22655        -0.887826               0.393939  \n",
       "22656        -0.887826               0.393939  \n",
       "22657              NaN                    NaN  \n",
       "22658              NaN                    NaN  \n",
       "22659        -0.507547               0.434343  \n",
       "\n",
       "[269706 rows x 17 columns]"
      ]
     },
     "execution_count": 184,
     "metadata": {},
     "output_type": "execute_result"
    }
   ],
   "source": [
    "olympics_dataset['Height_min_max_scaled'] = (olympics_dataset['Height'] - min_height) / (max_height - min_height)\n",
    "olympics_dataset"
   ]
  },
  {
   "cell_type": "markdown",
   "id": "15b658bc-cfbd-4d14-9b8e-775b6c15bbae",
   "metadata": {
    "tags": []
   },
   "source": [
    "## Task 14: Compare hight, weigth and age of male and female contestants participated in winter olympics"
   ]
  },
  {
   "cell_type": "code",
   "execution_count": 101,
   "id": "8d6c959e-ecb3-41ba-8c88-95a66c7c3a64",
   "metadata": {
    "tags": []
   },
   "outputs": [],
   "source": [
    "olympics_compare = olympics_dataset[(olympics_dataset['Season'] == 'Winter')]\n",
    "olympics_compare = olympics_compare[['Height', 'Weight', 'Age', 'Sex']]\n",
    "olympics_compare['Sex'] = olympics_compare['Sex'].replace('M', 'Male')\n",
    "olympics_compare['Sex'] = olympics_compare['Sex'].replace('F', 'Female')\n",
    "groups = pd.melt(olympics_compare, 'Sex')"
   ]
  },
  {
   "cell_type": "code",
   "execution_count": 102,
   "id": "9c610d5a-cad9-4467-a8c0-f407efe60d6d",
   "metadata": {
    "collapsed": true,
    "jupyter": {
     "outputs_hidden": true
    },
    "tags": []
   },
   "outputs": [
    {
     "data": {
      "text/html": [
       "<div>\n",
       "<style scoped>\n",
       "    .dataframe tbody tr th:only-of-type {\n",
       "        vertical-align: middle;\n",
       "    }\n",
       "\n",
       "    .dataframe tbody tr th {\n",
       "        vertical-align: top;\n",
       "    }\n",
       "\n",
       "    .dataframe thead th {\n",
       "        text-align: right;\n",
       "    }\n",
       "</style>\n",
       "<table border=\"1\" class=\"dataframe\">\n",
       "  <thead>\n",
       "    <tr style=\"text-align: right;\">\n",
       "      <th></th>\n",
       "      <th>Height</th>\n",
       "      <th>Weight</th>\n",
       "      <th>Age</th>\n",
       "      <th>Sex</th>\n",
       "    </tr>\n",
       "  </thead>\n",
       "  <tbody>\n",
       "    <tr>\n",
       "      <th>11</th>\n",
       "      <td>170.0</td>\n",
       "      <td>67.0</td>\n",
       "      <td>28.0</td>\n",
       "      <td>Male</td>\n",
       "    </tr>\n",
       "    <tr>\n",
       "      <th>12</th>\n",
       "      <td>170.0</td>\n",
       "      <td>67.0</td>\n",
       "      <td>28.0</td>\n",
       "      <td>Male</td>\n",
       "    </tr>\n",
       "    <tr>\n",
       "      <th>16</th>\n",
       "      <td>171.0</td>\n",
       "      <td>56.0</td>\n",
       "      <td>25.0</td>\n",
       "      <td>Male</td>\n",
       "    </tr>\n",
       "    <tr>\n",
       "      <th>17</th>\n",
       "      <td>171.0</td>\n",
       "      <td>56.0</td>\n",
       "      <td>25.0</td>\n",
       "      <td>Male</td>\n",
       "    </tr>\n",
       "    <tr>\n",
       "      <th>19</th>\n",
       "      <td>NaN</td>\n",
       "      <td>NaN</td>\n",
       "      <td>28.0</td>\n",
       "      <td>Female</td>\n",
       "    </tr>\n",
       "    <tr>\n",
       "      <th>...</th>\n",
       "      <td>...</td>\n",
       "      <td>...</td>\n",
       "      <td>...</td>\n",
       "      <td>...</td>\n",
       "    </tr>\n",
       "    <tr>\n",
       "      <th>22636</th>\n",
       "      <td>173.0</td>\n",
       "      <td>58.0</td>\n",
       "      <td>29.0</td>\n",
       "      <td>Male</td>\n",
       "    </tr>\n",
       "    <tr>\n",
       "      <th>22637</th>\n",
       "      <td>173.0</td>\n",
       "      <td>58.0</td>\n",
       "      <td>33.0</td>\n",
       "      <td>Male</td>\n",
       "    </tr>\n",
       "    <tr>\n",
       "      <th>22638</th>\n",
       "      <td>173.0</td>\n",
       "      <td>58.0</td>\n",
       "      <td>33.0</td>\n",
       "      <td>Male</td>\n",
       "    </tr>\n",
       "    <tr>\n",
       "      <th>22639</th>\n",
       "      <td>173.0</td>\n",
       "      <td>58.0</td>\n",
       "      <td>33.0</td>\n",
       "      <td>Male</td>\n",
       "    </tr>\n",
       "    <tr>\n",
       "      <th>22640</th>\n",
       "      <td>173.0</td>\n",
       "      <td>58.0</td>\n",
       "      <td>37.0</td>\n",
       "      <td>Male</td>\n",
       "    </tr>\n",
       "  </tbody>\n",
       "</table>\n",
       "<p>48562 rows × 4 columns</p>\n",
       "</div>"
      ],
      "text/plain": [
       "       Height  Weight   Age     Sex\n",
       "11      170.0    67.0  28.0    Male\n",
       "12      170.0    67.0  28.0    Male\n",
       "16      171.0    56.0  25.0    Male\n",
       "17      171.0    56.0  25.0    Male\n",
       "19        NaN     NaN  28.0  Female\n",
       "...       ...     ...   ...     ...\n",
       "22636   173.0    58.0  29.0    Male\n",
       "22637   173.0    58.0  33.0    Male\n",
       "22638   173.0    58.0  33.0    Male\n",
       "22639   173.0    58.0  33.0    Male\n",
       "22640   173.0    58.0  37.0    Male\n",
       "\n",
       "[48562 rows x 4 columns]"
      ]
     },
     "execution_count": 102,
     "metadata": {},
     "output_type": "execute_result"
    }
   ],
   "source": [
    "olympics_compare"
   ]
  },
  {
   "cell_type": "code",
   "execution_count": 103,
   "id": "be5ea36b-5008-46b2-85a6-9de397180cf1",
   "metadata": {},
   "outputs": [
    {
     "data": {
      "image/png": "[encoded data removed]",
      "text/plain": [
       "<Figure size 1080x576 with 1 Axes>"
      ]
     },
     "metadata": {},
     "output_type": "display_data"
    }
   ],
   "source": [
    "plt.figure(figsize=(15,8))\n",
    "sns.violinplot(x = 'value', y = 'variable', data = groups, hue = 'Sex', fliersize = 1.5)\n",
    "sns.set(style=\"darkgrid\")\n",
    "plt.ylabel('')\n",
    "plt.xlabel('Value', size=20 )\n",
    "plt.yticks(size=16)\n",
    "plt.xticks(size=16)\n",
    "plt.legend(bbox_to_anchor=(1.01,0.50), loc=2, borderaxespad=0.,  prop={'size': 20});"
   ]
  },
  {
   "cell_type": "code",
   "execution_count": null,
   "id": "435ae3bb-ec13-460d-b3df-16452bfc385d",
   "metadata": {},
   "outputs": [],
   "source": []
  },
  {
   "cell_type": "code",
   "execution_count": null,
   "id": "fdd32004-bf67-4599-9346-b3eaad6ff3cd",
   "metadata": {},
   "outputs": [],
   "source": []
  },
  {
   "cell_type": "code",
   "execution_count": null,
   "id": "86514026-763d-49da-8a49-3b67b35b213e",
   "metadata": {},
   "outputs": [],
   "source": []
  },
  {
   "cell_type": "code",
   "execution_count": null,
   "id": "d82db054-b2c0-488e-a76f-e4c9c267cc1f",
   "metadata": {},
   "outputs": [],
   "source": []
  }
 ],
 "metadata": {
  "kernelspec": {
   "display_name": "Python 3 (ipykernel)",
   "language": "python",
   "name": "python3"
  },
  "language_info": {
   "codemirror_mode": {
    "name": "ipython",
    "version": 3
   },
   "file_extension": ".py",
   "mimetype": "text/x-python",
   "name": "python",
   "nbconvert_exporter": "python",
   "pygments_lexer": "ipython3",
   "version": "3.8.10"
  }
 },
 "nbformat": 4,
 "nbformat_minor": 5
}
